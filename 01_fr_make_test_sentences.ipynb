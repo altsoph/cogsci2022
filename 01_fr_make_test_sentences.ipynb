{
 "cells": [
  {
   "cell_type": "code",
   "execution_count": 1,
   "metadata": {},
   "outputs": [],
   "source": [
    "import numpy as np\n",
    "from collections import Counter, defaultdict\n",
    "import spacy\n",
    "import textacy\n",
    "import textacy.datasets\n",
    "import re\n",
    "from anyascii import anyascii\n",
    "nlp = spacy.load(\"fr_core_news_sm\")\n",
    "ds = textacy.datasets.Wikipedia(lang=\"fr\", version=\"current\")"
   ]
  },
  {
   "cell_type": "code",
   "execution_count": 3,
   "metadata": {},
   "outputs": [
    {
     "name": "stderr",
     "output_type": "stream",
     "text": [
      "100%|██████████| 12.1G/12.1G [08:31<00:00, 23.6MB/s]  \n"
     ]
    }
   ],
   "source": [
    "ds.download()"
   ]
  },
  {
   "cell_type": "code",
   "execution_count": 15,
   "metadata": {},
   "outputs": [],
   "source": [
    "vlemma_cnt = defaultdict(int)\n",
    "vlemma_transitive_cnt = defaultdict(int)\n",
    "vlemma2part = defaultdict(Counter)\n",
    "nlemma_cnt = defaultdict(int)\n",
    "nlemma2pl = defaultdict(Counter)\n",
    "\n",
    "for text,record in ds.records(limit=20000):\n",
    "    processed = nlp(text)\n",
    "    for token in processed:\n",
    "        if token.pos_ == 'NOUN' and 'Number=Plur' in token.morph and re.match(r'^[A-Za-z]*$',anyascii(token.text)):\n",
    "            nlemma_cnt[token.lemma_] += 1\n",
    "            nlemma2pl[token.lemma_].update([token.text.lower(),])\n",
    "        if token.pos_ == 'VERB' and 'Gender=Masc' in token.morph and 'Number=Sing' in token.morph and 'Tense=Past' in token.morph and 'VerbForm=Part' in token.morph and re.match(r'^[A-Za-z]*$',anyascii(token.text)):\n",
    "            vlemma_cnt[token.lemma_] += 1\n",
    "            vlemma2part[token.lemma_].update([token.text.lower(),])\n",
    "            directObject = False\n",
    "            for item in token.children:\n",
    "                if item.pos_ not in ['NOUN','PRON','PROPN']: continue\n",
    "                if (item.dep_ == \"obj\"):\n",
    "                    directObject = True\n",
    "            if directObject == True:\n",
    "                vlemma_transitive_cnt[token.lemma_] += 1"
   ]
  },
  {
   "cell_type": "code",
   "execution_count": 31,
   "metadata": {},
   "outputs": [],
   "source": [
    "MIN_FREQ = 5"
   ]
  },
  {
   "cell_type": "code",
   "execution_count": 47,
   "metadata": {},
   "outputs": [],
   "source": [
    "verbs_to_use = []\n",
    "for vlemma, cnt in sorted(vlemma_cnt.items(), key=lambda x:-x[1]):\n",
    "    if cnt < MIN_FREQ: break\n",
    "    if vlemma in vlemma2part:\n",
    "        verb_part = vlemma2part[vlemma].most_common()[0][0]\n",
    "        s1 = vlemma_transitive_cnt[vlemma]/cnt\n",
    "        if s1>=.425 and verb_part not in verbs_to_use:\n",
    "            verbs_to_use.append(verb_part)"
   ]
  },
  {
   "cell_type": "code",
   "execution_count": 48,
   "metadata": {},
   "outputs": [],
   "source": [
    "with open('fr_transitive_verbs_part.txt', 'w') as f:\n",
    "    for item in verbs_to_use:\n",
    "        f.write(\"%s\\n\" % item)"
   ]
  },
  {
   "cell_type": "code",
   "execution_count": 49,
   "metadata": {},
   "outputs": [],
   "source": [
    "nouns_to_use = []\n",
    "for lemma, cnt in sorted(nlemma_cnt.items(), key=lambda x:-x[1]):\n",
    "    if cnt < MIN_FREQ: break\n",
    "    if lemma in nlemma2pl:\n",
    "        noun_pl = nlemma2pl[lemma].most_common()[0][0]\n",
    "        if noun_pl not in nouns_to_use and noun_pl not in verbs_to_use and lemma not in vlemma2part:\n",
    "            nouns_to_use.append(noun_pl)"
   ]
  },
  {
   "cell_type": "code",
   "execution_count": 50,
   "metadata": {},
   "outputs": [],
   "source": [
    "with open('fr_plural_nouns.txt', 'w') as f:\n",
    "    for item in nouns_to_use:\n",
    "        f.write(\"%s\\n\" % item)"
   ]
  },
  {
   "cell_type": "code",
   "execution_count": 51,
   "metadata": {},
   "outputs": [
    {
     "data": {
      "text/plain": [
       "(223, 11189)"
      ]
     },
     "execution_count": 51,
     "metadata": {},
     "output_type": "execute_result"
    }
   ],
   "source": [
    "len(verbs_to_use),len(nouns_to_use)"
   ]
  },
  {
   "cell_type": "code",
   "execution_count": 27,
   "metadata": {},
   "outputs": [],
   "source": [
    "import torch\n",
    "from pytorch_pretrained_bert import GPT2LMHeadModel, GPT2Tokenizer"
   ]
  },
  {
   "cell_type": "code",
   "execution_count": 29,
   "metadata": {},
   "outputs": [
    {
     "name": "stderr",
     "output_type": "stream",
     "text": [
      "Special tokens have been added in the vocabulary, make sure the associated word embedding are fine-tuned or trained.\n"
     ]
    }
   ],
   "source": [
    "import torch\n",
    "from transformers import GPT2LMHeadModel, GPT2TokenizerFast\n",
    "\n",
    "device = torch.device(\"cuda\" if torch.cuda.is_available() else \"cpu\")\n",
    "gpt_model_id = 'antoiloui/belgpt2' \n",
    " \n",
    "gpt_model = GPT2LMHeadModel.from_pretrained(gpt_model_id).to(device)\n",
    "gpt_model.eval()\n",
    "gpt_tokenizer = GPT2TokenizerFast.from_pretrained(gpt_model_id)\n",
    "\n",
    "def process(sentence):\n",
    "    encodings = gpt_tokenizer(sentence, return_tensors='pt')\n",
    "    with torch.no_grad():\n",
    "        outputs = gpt_model(encodings.input_ids.to(device), labels=encodings.input_ids.to(device))\n",
    "        log_likelihood = outputs[0] * encodings.input_ids.size(1)\n",
    "    return float(log_likelihood.detach().cpu().numpy())"
   ]
  },
  {
   "cell_type": "code",
   "execution_count": 55,
   "metadata": {},
   "outputs": [],
   "source": [
    "USE_NOUNS = 300\n",
    "USE_VERBS = 200"
   ]
  },
  {
   "cell_type": "code",
   "execution_count": 56,
   "metadata": {},
   "outputs": [],
   "source": [
    "sents = []\n",
    "for v_idx,verb in enumerate(verbs_to_use):\n",
    "    if v_idx>=USE_VERBS: break\n",
    "    for n_idx,subj in enumerate(nouns_to_use):\n",
    "        if n_idx>=USE_NOUNS: break\n",
    "        sent_body = 'deux '+ subj + ' ont ' + verb + \" quelqu'un.\"\n",
    "        ppl_body = process(sent_body)\n",
    "        sent_thing = 'deux '+ subj + ' ont ' + verb + ' quelque chose.'\n",
    "        ppl_thing = process(sent_thing)\n",
    "        sents.append((ppl_body,sent_body,n_idx,v_idx,'body'))\n",
    "        sents.append((ppl_thing,sent_thing,n_idx,v_idx,'thing'))\n",
    "sents = sorted(sents)"
   ]
  },
  {
   "cell_type": "code",
   "execution_count": 57,
   "metadata": {},
   "outputs": [],
   "source": [
    "with open('fr_basic_sentences.tsv', 'w', encoding='utf-8') as ofh:\n",
    "    for s in sents:\n",
    "        print(\"\\t\".join(map(str, s)), file=ofh)"
   ]
  },
  {
   "cell_type": "code",
   "execution_count": 58,
   "metadata": {},
   "outputs": [],
   "source": [
    "USE_SENTS = 10000"
   ]
  },
  {
   "cell_type": "code",
   "execution_count": 59,
   "metadata": {},
   "outputs": [],
   "source": [
    "vowels = ['a','h','é','e','è','ê','à','á','â','i','o','u','œ','y']"
   ]
  },
  {
   "cell_type": "code",
   "execution_count": 62,
   "metadata": {},
   "outputs": [],
   "source": [
    "with open('fr_test_sentences.tsv', 'w', encoding='utf-8') as ofh:\n",
    "    for s in sents[:USE_SENTS]:\n",
    "        if s[-1]=='body':\n",
    "            aff = 'les ' + nouns_to_use[s[2]] + ' ont ' + verbs_to_use[s[3]] + ' qui que ce soit.'\n",
    "            neg = 'les ' + nouns_to_use[s[2]] + \" n'ont pas \" + verbs_to_use[s[3]] + ' qui que ce soit.'\n",
    "            if nouns_to_use[s[2]][0] in vowels:\n",
    "                many = \"beaucoup d'\"+ nouns_to_use[s[2]] + ' ont ' + verbs_to_use[s[3]] + ' qui que ce soit.'\n",
    "                few = \"peu d'\"+ nouns_to_use[s[2]] + ' ont ' + verbs_to_use[s[3]] + ' qui que ce soit.'\n",
    "            else:\n",
    "                many = \"beaucoup de \"+ nouns_to_use[s[2]] + ' ont ' + verbs_to_use[s[3]] + ' qui que ce soit.'\n",
    "                few = \"peu de \"+ nouns_to_use[s[2]] + ' ont ' + verbs_to_use[s[3]] + ' qui que ce soit.'                \n",
    "        elif s[-1]=='thing':\n",
    "            aff = 'les ' + nouns_to_use[s[2]] + ' ont ' + verbs_to_use[s[3]] + ' quoi que ce soit.'\n",
    "            neg = 'les ' + nouns_to_use[s[2]] + \" n'ont pas \" + verbs_to_use[s[3]] + ' quoi que ce soit.'\n",
    "            if nouns_to_use[s[2]][0] in vowels:\n",
    "                many = \"beaucoup d'\"+ nouns_to_use[s[2]] + ' ont ' + verbs_to_use[s[3]] + ' quoi que ce soit.'\n",
    "                few = \"peu d'\"+ nouns_to_use[s[2]] + ' ont ' + verbs_to_use[s[3]] + ' quoi que ce soit.'\n",
    "            else:\n",
    "                many = \"beaucoup de \"+ nouns_to_use[s[2]] + ' ont ' + verbs_to_use[s[3]] + ' quoi que ce soit.'\n",
    "                few = \"peu de \"+ nouns_to_use[s[2]] + ' ont ' + verbs_to_use[s[3]] + ' quoi que ce soit.'                \n",
    "        print(\"\\t\".join([aff,neg,many,few]+list(map(str, s[2:]))), file=ofh)"
   ]
  },
  {
   "cell_type": "code",
   "execution_count": null,
   "metadata": {},
   "outputs": [],
   "source": []
  }
 ],
 "metadata": {
  "kernelspec": {
   "display_name": "Python 3",
   "language": "python",
   "name": "python3"
  },
  "language_info": {
   "codemirror_mode": {
    "name": "ipython",
    "version": 3
   },
   "file_extension": ".py",
   "mimetype": "text/x-python",
   "name": "python",
   "nbconvert_exporter": "python",
   "pygments_lexer": "ipython3",
   "version": "3.8.5"
  }
 },
 "nbformat": 4,
 "nbformat_minor": 4
}
