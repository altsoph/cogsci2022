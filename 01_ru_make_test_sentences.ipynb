{
 "cells": [
  {
   "cell_type": "code",
   "execution_count": 5,
   "metadata": {},
   "outputs": [],
   "source": [
    "import numpy as np\n",
    "from collections import Counter, defaultdict\n",
    "import spacy\n",
    "import textacy.datasets\n",
    "ds = textacy.datasets.Wikipedia(lang=\"ru\", version=\"current\")"
   ]
  },
  {
   "cell_type": "code",
   "execution_count": 12,
   "metadata": {},
   "outputs": [],
   "source": [
    "nlp = spacy.load(\"ru_core_news_sm\")"
   ]
  },
  {
   "cell_type": "code",
   "execution_count": 33,
   "metadata": {},
   "outputs": [],
   "source": [
    "vlemma_cnt = defaultdict(int)\n",
    "vlemma_transitive_cnt = defaultdict(int)\n",
    "vlemma2plpast = defaultdict(Counter)\n",
    "\n",
    "nlemma_cnt = defaultdict(int)\n",
    "nlemma2plnom = defaultdict(Counter)\n",
    "\n",
    "for text,record in ds.records(limit=20000):\n",
    "    processed = nlp(text)\n",
    "    \n",
    "    for token in processed:\n",
    "        if token.pos_ == \"NOUN\":\n",
    "            if 'Number=Plur' in token.morph and 'Case=Nom' in token.morph:\n",
    "                nlemma_cnt[token.lemma_] += 1\n",
    "                nlemma2plnom[token.lemma_].update([token.text.lower(),])\n",
    "        if token.pos_ == \"VERB\" and \\\n",
    "           'Number=Plur' in token.morph and 'Tense=Past' in token.morph and 'VerbForm=Fin' in token.morph and 'Voice=Act' in token.morph:\n",
    "                vlemma2plpast[token.lemma_].update([token.text.lower(),])\n",
    "                vlemma_cnt[token.lemma_] += 1\n",
    "\n",
    "                directObject = False\n",
    "\n",
    "                for item in token.children:\n",
    "                    if item.pos_ not in ['NOUN','PRON','PROPN']: continue\n",
    "                    \n",
    "                    if item.dep_=='obj' and 'Case=Acc' in item.morph:\n",
    "                        directObject = True\n",
    "\n",
    "                if directObject == True:\n",
    "                    vlemma_transitive_cnt[token.lemma_] += 1"
   ]
  },
  {
   "cell_type": "code",
   "execution_count": 34,
   "metadata": {},
   "outputs": [],
   "source": [
    "MIN_FREQ = 5"
   ]
  },
  {
   "cell_type": "code",
   "execution_count": 35,
   "metadata": {},
   "outputs": [],
   "source": [
    "verbs_to_use = []\n",
    "for vlemma, cnt in sorted(vlemma_cnt.items(), key=lambda x:-x[1]):\n",
    "    if cnt < MIN_FREQ: break\n",
    "    if vlemma in vlemma2plpast:\n",
    "        verb_past = vlemma2plpast[vlemma].most_common()[0][0]\n",
    "        s1 = vlemma_transitive_cnt[vlemma]/cnt\n",
    "        if s1>=.5 and verb_past not in verbs_to_use:\n",
    "            verbs_to_use.append(verb_past)"
   ]
  },
  {
   "cell_type": "code",
   "execution_count": 36,
   "metadata": {},
   "outputs": [],
   "source": [
    "with open('ru_transitive_verbs_past.txt', 'w') as f:\n",
    "    for item in verbs_to_use:\n",
    "        f.write(\"%s\\n\" % item)"
   ]
  },
  {
   "cell_type": "code",
   "execution_count": 39,
   "metadata": {},
   "outputs": [],
   "source": [
    "nouns_to_use = []\n",
    "for lemma, cnt in sorted(nlemma_cnt.items(), key=lambda x:-x[1]):\n",
    "    if cnt < MIN_FREQ: break\n",
    "    if lemma in nlemma2plnom:\n",
    "        noun_pl = nlemma2plnom[lemma].most_common()[0][0]\n",
    "        if noun_pl not in nouns_to_use and noun_pl not in verbs_to_use and lemma not in vlemma2plpast:\n",
    "            nouns_to_use.append(noun_pl)"
   ]
  },
  {
   "cell_type": "code",
   "execution_count": 40,
   "metadata": {},
   "outputs": [],
   "source": [
    "with open('ru_plural_nouns.txt', 'w') as f:\n",
    "    for item in nouns_to_use:\n",
    "        f.write(\"%s\\n\" % item)"
   ]
  },
  {
   "cell_type": "code",
   "execution_count": 41,
   "metadata": {},
   "outputs": [
    {
     "data": {
      "text/plain": [
       "(832, 4413)"
      ]
     },
     "execution_count": 41,
     "metadata": {},
     "output_type": "execute_result"
    }
   ],
   "source": [
    "len(verbs_to_use),len(nouns_to_use)"
   ]
  },
  {
   "cell_type": "code",
   "execution_count": 43,
   "metadata": {},
   "outputs": [
    {
     "data": {
      "application/vnd.jupyter.widget-view+json": {
       "model_id": "584a5363d94b433183c2d1fbbb00fbe2",
       "version_major": 2,
       "version_minor": 0
      },
      "text/plain": [
       "Downloading:   0%|          | 0.00/551M [00:00<?, ?B/s]"
      ]
     },
     "metadata": {},
     "output_type": "display_data"
    },
    {
     "data": {
      "application/vnd.jupyter.widget-view+json": {
       "model_id": "a0d34409971a4c5a9e0c2e243dc4776a",
       "version_major": 2,
       "version_minor": 0
      },
      "text/plain": [
       "Downloading:   0%|          | 0.00/1.71M [00:00<?, ?B/s]"
      ]
     },
     "metadata": {},
     "output_type": "display_data"
    },
    {
     "data": {
      "application/vnd.jupyter.widget-view+json": {
       "model_id": "569da13b577e4216a6dc8719c0f0fa82",
       "version_major": 2,
       "version_minor": 0
      },
      "text/plain": [
       "Downloading:   0%|          | 0.00/1.27M [00:00<?, ?B/s]"
      ]
     },
     "metadata": {},
     "output_type": "display_data"
    },
    {
     "name": "stderr",
     "output_type": "stream",
     "text": [
      "Special tokens have been added in the vocabulary, make sure the associated word embedding are fine-tuned or trained.\n"
     ]
    }
   ],
   "source": [
    "import torch\n",
    "from transformers import GPT2LMHeadModel, GPT2TokenizerFast\n",
    "\n",
    "device = torch.device(\"cuda\" if torch.cuda.is_available() else \"cpu\")\n",
    "gpt_model_id = 'sberbank-ai/rugpt3small_based_on_gpt2' \n",
    " \n",
    "gpt_model = GPT2LMHeadModel.from_pretrained(gpt_model_id).to(device)\n",
    "gpt_model.eval()\n",
    "gpt_tokenizer = GPT2TokenizerFast.from_pretrained(gpt_model_id)\n",
    "\n",
    "def process(sentence):\n",
    "    encodings = gpt_tokenizer(sentence, return_tensors='pt')\n",
    "    with torch.no_grad():\n",
    "        outputs = gpt_model(encodings.input_ids.to(device), labels=encodings.input_ids.to(device))\n",
    "        log_likelihood = outputs[0] * encodings.input_ids.size(1)\n",
    "    return float(log_likelihood.detach().cpu().numpy())"
   ]
  },
  {
   "cell_type": "code",
   "execution_count": 45,
   "metadata": {},
   "outputs": [],
   "source": [
    "USE_NOUNS = 300\n",
    "USE_VERBS = 200"
   ]
  },
  {
   "cell_type": "code",
   "execution_count": 49,
   "metadata": {},
   "outputs": [],
   "source": [
    "sents = []\n",
    "for v_idx,verb in enumerate(verbs_to_use):\n",
    "    if v_idx>=USE_VERBS: break\n",
    "    for n_idx,subj in enumerate(nouns_to_use):\n",
    "        if n_idx>=USE_NOUNS: break\n",
    "        sent_body = 'все '+ subj + ' кого-то ' + verb + '.'\n",
    "        ppl_body = process(sent_body)\n",
    "        sent_thing = 'все '+ subj + ' что-то ' + verb + '.'\n",
    "        ppl_thing = process(sent_thing)\n",
    "        sents.append((ppl_body,sent_body,n_idx,v_idx,'body'))\n",
    "        sents.append((ppl_thing,sent_thing,n_idx,v_idx,'thing'))\n",
    "sents = sorted(sents)"
   ]
  },
  {
   "cell_type": "code",
   "execution_count": 50,
   "metadata": {},
   "outputs": [],
   "source": [
    "with open('ru_basic_sentences.tsv', 'w', encoding='utf-8') as ofh:\n",
    "    for s in sents:\n",
    "        print(\"\\t\".join(map(str, s)), file=ofh)"
   ]
  },
  {
   "cell_type": "code",
   "execution_count": 7,
   "metadata": {},
   "outputs": [],
   "source": [
    "sents = open('ru_basic_sentences.tsv', encoding='utf-8').read().split('\\n')\n",
    "sents = [x.split('\\t') for x in sents]\n",
    "nouns_to_use = open('ru_plural_nouns.txt', encoding='utf-8').read().split('\\n')\n",
    "verbs_to_use = open('ru_transitive_verbs_past.txt', encoding='utf-8').read().split('\\n')"
   ]
  },
  {
   "cell_type": "code",
   "execution_count": 8,
   "metadata": {},
   "outputs": [],
   "source": [
    "USE_SENTS = 10000"
   ]
  },
  {
   "cell_type": "code",
   "execution_count": 9,
   "metadata": {},
   "outputs": [],
   "source": [
    "with open('ru_test_sentences_ni.tsv', 'w', encoding='utf-8') as ofh:\n",
    "    for s in sents[:USE_SENTS]:\n",
    "        if s[-1]=='body':\n",
    "            aff = nouns_to_use[int(s[2])] + ' никого ' + verbs_to_use[int(s[3])] + '.'\n",
    "            neg = nouns_to_use[int(s[2])] + ' никого не ' + verbs_to_use[int(s[3])] + '.'\n",
    "            many = 'многие '+ nouns_to_use[int(s[2])] + ' никого ' + verbs_to_use[int(s[3])] + '.'\n",
    "            few = 'немногие '+ nouns_to_use[int(s[2])] + ' никого ' + verbs_to_use[int(s[3])] + '.'\n",
    "            print(\"\\t\".join([aff,neg,many,few]+list(map(str, s[2:]))), file=ofh)\n",
    "        elif s[-1]=='thing':\n",
    "            aff = nouns_to_use[int(s[2])] + ' ничего ' + verbs_to_use[int(s[3])] + '.'\n",
    "            neg = nouns_to_use[int(s[2])] + ' ничего не ' + verbs_to_use[int(s[3])] + '.'\n",
    "            many = 'многие '+ nouns_to_use[int(s[2])] + ' ничего ' + verbs_to_use[int(s[3])] + '.'\n",
    "            few = 'немногие '+ nouns_to_use[int(s[2])] + ' ничего ' + verbs_to_use[int(s[3])] + '.'\n",
    "            print(\"\\t\".join([aff,neg,many,few]+list(map(str, s[2:]))), file=ofh)"
   ]
  },
  {
   "cell_type": "code",
   "execution_count": 10,
   "metadata": {},
   "outputs": [],
   "source": [
    "with open('ru_test_sentences_libo.tsv', 'w', encoding='utf-8') as ofh:\n",
    "    for s in sents[:USE_SENTS]:\n",
    "        if s[-1]=='body':\n",
    "            aff = nouns_to_use[int(s[2])] + ' ' + verbs_to_use[int(s[3])] + ' кого-либо.'\n",
    "            neg = nouns_to_use[int(s[2])] + ' не ' + verbs_to_use[int(s[3])] + ' кого-либо.'\n",
    "            many = 'многие '+ nouns_to_use[int(s[2])] + ' ' + verbs_to_use[int(s[3])] + ' кого-либо.'\n",
    "            few = 'немногие '+ nouns_to_use[int(s[2])] + ' ' + verbs_to_use[int(s[3])] + ' кого-либо.'\n",
    "            print(\"\\t\".join([aff,neg,many,few]+list(map(str, s[2:]))), file=ofh)\n",
    "        elif s[-1]=='thing':\n",
    "            aff = nouns_to_use[int(s[2])] + ' ' + verbs_to_use[int(s[3])] + ' что-либо.'\n",
    "            neg = nouns_to_use[int(s[2])] + ' не ' + verbs_to_use[int(s[3])] + ' чего-либо.'\n",
    "            many = 'многие '+ nouns_to_use[int(s[2])] + ' ' + verbs_to_use[int(s[3])] + ' что-либо.'\n",
    "            few = 'немногие '+ nouns_to_use[int(s[2])] + ' ' + verbs_to_use[int(s[3])] + ' что-либо.'\n",
    "            print(\"\\t\".join([aff,neg,many,few]+list(map(str, s[2:]))), file=ofh)"
   ]
  },
  {
   "cell_type": "code",
   "execution_count": null,
   "metadata": {},
   "outputs": [],
   "source": []
  }
 ],
 "metadata": {
  "kernelspec": {
   "display_name": "Python 3",
   "language": "python",
   "name": "python3"
  },
  "language_info": {
   "codemirror_mode": {
    "name": "ipython",
    "version": 3
   },
   "file_extension": ".py",
   "mimetype": "text/x-python",
   "name": "python",
   "nbconvert_exporter": "python",
   "pygments_lexer": "ipython3",
   "version": "3.8.5"
  }
 },
 "nbformat": 4,
 "nbformat_minor": 4
}
