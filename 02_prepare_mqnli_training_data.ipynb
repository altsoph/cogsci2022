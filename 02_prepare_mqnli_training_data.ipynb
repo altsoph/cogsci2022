{
 "cells": [
  {
   "cell_type": "code",
   "execution_count": 133,
   "metadata": {},
   "outputs": [
    {
     "name": "stderr",
     "output_type": "stream",
     "text": [
      "/home/lisa/Code/env/lib/python3.6/site-packages/spacy/util.py:730: UserWarning: [W095] Model 'en_core_web_sm' (3.0.0) was trained with spaCy v3.0 and may not be 100% compatible with the current version (3.1.0). If you see errors or degraded performance, download a newer compatible model or retrain your custom model with the current spaCy version. For more details and available updates, run: python -m spacy validate\n",
      "  warnings.warn(warn_msg)\n"
     ]
    }
   ],
   "source": [
    "import ast\n",
    "import re\n",
    "import pandas as pd\n",
    "import spacy\n",
    "from pattern.en import pluralize\n",
    "import en_core_web_sm\n",
    "nlp = en_core_web_sm.load()"
   ]
  },
  {
   "cell_type": "code",
   "execution_count": 115,
   "metadata": {},
   "outputs": [],
   "source": [
    "sents = open('mqnli_data', encoding='utf-8').read().split('\\n')"
   ]
  },
  {
   "cell_type": "code",
   "execution_count": null,
   "metadata": {},
   "outputs": [],
   "source": [
    "sents_d = []\n",
    "for x in sents:\n",
    "    sents_d.append(ast.literal_eval(x))"
   ]
  },
  {
   "cell_type": "code",
   "execution_count": 117,
   "metadata": {},
   "outputs": [
    {
     "data": {
      "text/plain": [
       "499998"
      ]
     },
     "execution_count": 117,
     "metadata": {},
     "output_type": "execute_result"
    }
   ],
   "source": [
    "len(sents_d)"
   ]
  },
  {
   "cell_type": "code",
   "execution_count": 19,
   "metadata": {},
   "outputs": [
    {
     "data": {
      "text/plain": [
       "{'every', 'no', 'notevery', 'some'}"
      ]
     },
     "execution_count": 19,
     "metadata": {},
     "output_type": "execute_result"
    }
   ],
   "source": [
    "set([x['sentence1'].split(' ')[0] for x in sents_d])"
   ]
  },
  {
   "cell_type": "code",
   "execution_count": 134,
   "metadata": {},
   "outputs": [],
   "source": [
    "def reformat_sentence(sentence):\n",
    "    new_sentence = []\n",
    "    negation = False\n",
    "    for ix,word in enumerate(sentence.split(' ')):\n",
    "        if word == 'notevery':\n",
    "            new_sentence.append('not')\n",
    "            new_sentence.append('every')\n",
    "        elif word == 'doesnot':\n",
    "            new_sentence.append(\"doesn't\")\n",
    "            negation = True\n",
    "        elif ix==5:\n",
    "            if negation==True:\n",
    "                new_sentence.append(nlp(word)[0].lemma_)\n",
    "            else:\n",
    "                new_sentence.append(word)\n",
    "        elif word!='emptystring':\n",
    "            new_sentence.append(word.lower())\n",
    "    new_sentence = ' '.join(new_sentence)\n",
    "    return new_sentence"
   ]
  },
  {
   "cell_type": "code",
   "execution_count": 146,
   "metadata": {},
   "outputs": [],
   "source": [
    "df = pd.DataFrame(sents_d)"
   ]
  },
  {
   "cell_type": "code",
   "execution_count": null,
   "metadata": {},
   "outputs": [],
   "source": [
    "all_sent1_subj_quant = []\n",
    "all_sent1_subj_adj = []\n",
    "all_sent1_obj_quant = []\n",
    "all_sent1_obj_adj = []\n",
    "all_sent1_adv = []\n",
    "all_sent1_polarity = []\n",
    "all_sent2_subj_quant = []\n",
    "all_sent2_subj_adj = []\n",
    "all_sent2_obj_quant = []\n",
    "all_sent2_obj_adj = []\n",
    "all_sent2_adv = []\n",
    "all_sent2_polarity = []\n",
    "sents1_readable = []\n",
    "sents2_readable = []\n",
    "\n",
    "for ix,row in df.iterrows():\n",
    "    sents1_readable.append(reformat_sentence(row['sentence1']))\n",
    "    sents2_readable.append(reformat_sentence(row['sentence2']))\n",
    "    scheme1 = row['sentence1'].split(' ')\n",
    "    scheme2 = row['sentence2'].split(' ')\n",
    "    \n",
    "    sent1_subj_quant = scheme1[0]\n",
    "    if scheme1[1] == 'emptystring':\n",
    "        sent1_subj_adj = 'no'\n",
    "    else:\n",
    "        sent1_subj_adj = 'yes'\n",
    "    sent1_obj_quant =scheme1[6]\n",
    "    if scheme1[7] == 'emptystring':\n",
    "        sent1_obj_adj = 'no'\n",
    "    else:\n",
    "        sent1_obj_adj = 'yes'\n",
    "    if scheme1[4] == 'emptystring':\n",
    "        sent1_adv = 'no'\n",
    "    else:\n",
    "        sent1_adv = 'yes'\n",
    "    if scheme1[3] == 'emptystring':\n",
    "        sent1_polarity = 'aff'\n",
    "    else:\n",
    "        sent1_polarity = 'neg'\n",
    "\n",
    "    sent2_subj_quant = scheme2[0]\n",
    "    if scheme2[1] == 'emptystring':\n",
    "        sent2_subj_adj = 'no'\n",
    "    else:\n",
    "        sent2_subj_adj = 'yes'\n",
    "    sent2_obj_quant =scheme2[6]\n",
    "    if scheme2[7] == 'emptystring':\n",
    "        sent2_obj_adj = 'no'\n",
    "    else:\n",
    "        sent2_obj_adj = 'yes'\n",
    "    if scheme2[4] == 'emptystring':\n",
    "        sent2_adv = 'no'\n",
    "    else:\n",
    "        sent2_adv = 'yes'\n",
    "    if scheme2[3] == 'emptystring':\n",
    "        sent2_polarity = 'aff'\n",
    "    else:\n",
    "        sent2_polarity = 'neg'\n",
    "        \n",
    "    all_sent1_subj_quant.append(sent1_subj_quant)\n",
    "    all_sent1_subj_adj.append(sent1_subj_adj)\n",
    "    all_sent1_obj_quant.append(sent1_obj_quant)\n",
    "    all_sent1_obj_adj.append(sent1_obj_adj)\n",
    "    all_sent1_adv.append(sent1_adv)\n",
    "    all_sent1_polarity.append(sent1_polarity)\n",
    "    all_sent2_subj_quant.append(sent2_subj_quant)\n",
    "    all_sent2_subj_adj.append(sent2_subj_adj)\n",
    "    all_sent2_obj_quant.append(sent2_obj_quant)\n",
    "    all_sent2_obj_adj.append(sent2_obj_adj)\n",
    "    all_sent2_adv.append(sent2_adv)\n",
    "    all_sent2_polarity.append(sent2_polarity)"
   ]
  },
  {
   "cell_type": "code",
   "execution_count": 150,
   "metadata": {},
   "outputs": [],
   "source": [
    "df['sent1_readable'] = sents1_readable\n",
    "df['sent2_readable'] = sents2_readable\n",
    "df['sent1_subj_quant'] = all_sent1_subj_quant\n",
    "df['sent1_subj_adj'] = all_sent1_subj_adj\n",
    "df['sent1_obj_quant'] = all_sent1_obj_quant\n",
    "df['sent1_obj_adj'] = all_sent1_obj_adj\n",
    "df['sent1_adv'] = all_sent1_adv\n",
    "df['sent1_polarity'] = all_sent1_polarity\n",
    "df['sent2_subj_quant'] = all_sent2_subj_quant\n",
    "df['sent2_subj_adj'] = all_sent2_subj_adj\n",
    "df['sent2_obj_quant'] = all_sent2_obj_quant\n",
    "df['sent2_obj_adj'] = all_sent2_obj_adj\n",
    "df['sent2_adv'] = all_sent2_adv\n",
    "df['sent2_polarity'] = all_sent2_polarity"
   ]
  },
  {
   "cell_type": "code",
   "execution_count": 152,
   "metadata": {},
   "outputs": [],
   "source": [
    "df.to_csv('labelled_mqnli.csv')"
   ]
  },
  {
   "cell_type": "code",
   "execution_count": 179,
   "metadata": {},
   "outputs": [],
   "source": [
    "quants_of_interest = ['no','some']"
   ]
  },
  {
   "cell_type": "code",
   "execution_count": 205,
   "metadata": {},
   "outputs": [],
   "source": [
    "uniform = df[(df['sent1_subj_quant']==df['sent2_subj_quant'])&(df['sent1_obj_quant']==df['sent2_obj_quant'])]"
   ]
  },
  {
   "cell_type": "code",
   "execution_count": 206,
   "metadata": {},
   "outputs": [],
   "source": [
    "uniform = uniform[(uniform['sent1_subj_quant'].isin(quants_of_interest))|(uniform['sent1_obj_quant'].isin(quants_of_interest))]"
   ]
  },
  {
   "cell_type": "code",
   "execution_count": 207,
   "metadata": {},
   "outputs": [
    {
     "data": {
      "text/plain": [
       "no          11009\n",
       "some         6096\n",
       "every        5324\n",
       "notevery     3062\n",
       "Name: sent1_subj_quant, dtype: int64"
      ]
     },
     "execution_count": 207,
     "metadata": {},
     "output_type": "execute_result"
    }
   ],
   "source": [
    "uniform['sent1_subj_quant'].value_counts()"
   ]
  },
  {
   "cell_type": "code",
   "execution_count": 208,
   "metadata": {},
   "outputs": [
    {
     "data": {
      "text/plain": [
       "some        8596\n",
       "no          8387\n",
       "every       4316\n",
       "notevery    4192\n",
       "Name: sent1_obj_quant, dtype: int64"
      ]
     },
     "execution_count": 208,
     "metadata": {},
     "output_type": "execute_result"
    }
   ],
   "source": [
    "uniform['sent1_obj_quant'].value_counts()"
   ]
  },
  {
   "cell_type": "code",
   "execution_count": 209,
   "metadata": {},
   "outputs": [
    {
     "data": {
      "text/plain": [
       "25491"
      ]
     },
     "execution_count": 209,
     "metadata": {},
     "output_type": "execute_result"
    }
   ],
   "source": [
    "len(uniform)"
   ]
  },
  {
   "cell_type": "code",
   "execution_count": 222,
   "metadata": {},
   "outputs": [],
   "source": [
    "stage2_indices = []\n",
    "subj_some_cnt = 0\n",
    "subj_no_cnt = 0\n",
    "obj_some_cnt = 0\n",
    "obj_no_cnt = 0\n",
    "subj_some_ix = []\n",
    "subj_no_ix = []\n",
    "obj_some_ix = []\n",
    "obj_no_ix = []\n",
    "for ix,row in uniform.iterrows():\n",
    "    if row['sent1_obj_quant'] == 'some' and obj_some_cnt<4000:\n",
    "        stage2_indices.append(ix)\n",
    "        obj_some_cnt += 1\n",
    "        obj_some_ix.append(ix)\n",
    "    elif row['sent1_obj_quant'] == 'no' and obj_no_cnt<4000:\n",
    "        stage2_indices.append(ix)\n",
    "        obj_no_cnt += 1\n",
    "        obj_no_ix.append(ix)\n",
    "    elif row['sent1_subj_quant'] == 'some' and subj_some_cnt<4000:\n",
    "        stage2_indices.append(ix)\n",
    "        subj_some_cnt += 1\n",
    "        subj_some_ix.append(ix)\n",
    "    elif row['sent1_subj_quant'] == 'no' and subj_no_cnt<4000:\n",
    "        stage2_indices.append(ix)\n",
    "        subj_no_cnt += 1   \n",
    "        subj_no_ix.append(ix)"
   ]
  },
  {
   "cell_type": "code",
   "execution_count": 223,
   "metadata": {},
   "outputs": [
    {
     "data": {
      "text/plain": [
       "16000"
      ]
     },
     "execution_count": 223,
     "metadata": {},
     "output_type": "execute_result"
    }
   ],
   "source": [
    "len(stage2_indices)"
   ]
  },
  {
   "cell_type": "code",
   "execution_count": 224,
   "metadata": {},
   "outputs": [],
   "source": [
    "stage1_df = df[~df.index.isin(stage2_indices)]"
   ]
  },
  {
   "cell_type": "code",
   "execution_count": 225,
   "metadata": {},
   "outputs": [
    {
     "data": {
      "text/plain": [
       "483998"
      ]
     },
     "execution_count": 225,
     "metadata": {},
     "output_type": "execute_result"
    }
   ],
   "source": [
    "len(stage1_df)"
   ]
  },
  {
   "cell_type": "code",
   "execution_count": 230,
   "metadata": {},
   "outputs": [],
   "source": [
    "not_indices = []\n",
    "neg_count = 0\n",
    "for ix,row in stage1_df.iterrows():\n",
    "    if neg_count>7999: break\n",
    "    if (row['sent1_polarity']=='neg' or row['sent2_polarity']=='neg'):\n",
    "        not_indices.append(ix)\n",
    "        neg_count+=1"
   ]
  },
  {
   "cell_type": "code",
   "execution_count": 233,
   "metadata": {},
   "outputs": [],
   "source": [
    "stage1_df = stage1_df[~stage1_df.index.isin(not_indices)]"
   ]
  },
  {
   "cell_type": "code",
   "execution_count": 234,
   "metadata": {},
   "outputs": [
    {
     "data": {
      "text/plain": [
       "475998"
      ]
     },
     "execution_count": 234,
     "metadata": {},
     "output_type": "execute_result"
    }
   ],
   "source": [
    "len(stage1_df)"
   ]
  },
  {
   "cell_type": "code",
   "execution_count": 235,
   "metadata": {},
   "outputs": [],
   "source": [
    "stage1_df.to_csv('stage1_training_data.csv')"
   ]
  },
  {
   "cell_type": "code",
   "execution_count": 236,
   "metadata": {},
   "outputs": [],
   "source": [
    "stage2_indices = stage2_indices + not_indices"
   ]
  },
  {
   "cell_type": "code",
   "execution_count": 238,
   "metadata": {},
   "outputs": [],
   "source": [
    "stage2_indices = sorted(stage2_indices)"
   ]
  },
  {
   "cell_type": "code",
   "execution_count": 255,
   "metadata": {},
   "outputs": [],
   "source": [
    "stage2_df = uniform[uniform.index.isin(stage2_indices)]"
   ]
  },
  {
   "cell_type": "code",
   "execution_count": 256,
   "metadata": {},
   "outputs": [],
   "source": [
    "stage2_quant_s1 = []\n",
    "stage2_quant_s2 = []\n",
    "stage2_quant_s1_readable = []\n",
    "stage2_quant_s2_readable = []\n",
    "quant_subj = []\n",
    "quant_obj = []\n",
    "for ix,row in stage2_df.iterrows():\n",
    "    s1 = row['sentence1'].split(' ')\n",
    "    s2 = row['sentence2'].split(' ')\n",
    "    if ix in subj_some_ix:\n",
    "        new_s1 = ' '.join(['[MANY]']+[s1[1]]+[pluralize(s1[2])]+s1[3:])\n",
    "        new_s2 = ' '.join(['[MANY]']+[s2[1]]+[pluralize(s2[2])]+s2[3:])\n",
    "        quant_subj.append('[MANY]')\n",
    "        quant_obj.append(row['sent1_obj_quant'])\n",
    "    elif ix in subj_no_ix:\n",
    "        new_s1 = ' '.join(['[FEW]']+[s1[1]]+[pluralize(s1[2])]+s1[3:])\n",
    "        new_s2 = ' '.join(['[FEW]']+[s2[1]]+[pluralize(s2[2])]+s2[3:])\n",
    "        quant_subj.append('[FEW]')\n",
    "        quant_obj.append(row['sent1_obj_quant'])\n",
    "    elif ix in obj_some_ix:\n",
    "        new_s1 = ' '.join(s1[:6]+['[MANY]']+[s1[7]]+[pluralize(s1[8])])\n",
    "        new_s2 = ' '.join(s2[:6]+['[MANY]']+[s2[7]]+[pluralize(s2[8])])\n",
    "        quant_obj.append('[MANY]')\n",
    "        quant_subj.append(row['sent1_subj_quant'])\n",
    "    elif ix in obj_no_ix:\n",
    "        new_s1 = ' '.join(s1[:6]+['[FEW]']+[s1[7]]+[pluralize(s1[8])])\n",
    "        new_s2 = ' '.join(s2[:6]+['[FEW]']+[s2[7]]+[pluralize(s2[8])])\n",
    "        quant_obj.append('[FEW]')\n",
    "        quant_subj.append(row['sent1_subj_quant'])\n",
    "    elif ix in not_indices:\n",
    "        new_s1 = ' '.join(s1[:3]+['[NOT]']+s1[4:])\n",
    "        new_s2 = ' '.join(s2[:3]+['[NOT]']+s2[4:])\n",
    "        quant_obj.append(row['sent1_obj_quant'])\n",
    "        quant_subj.append(row['sent1_subj_quant'])\n",
    "        \n",
    "    stage2_quant_s1.append(new_s1)\n",
    "    stage2_quant_s2.append(new_s2)\n",
    "    stage2_quant_s1_readable.append(reformat_sentence(new_s1).replace('[many]','[MANY]').replace('[few]','[FEW]').replace('[not]','[NOT]'))\n",
    "    stage2_quant_s2_readable.append(reformat_sentence(new_s2).replace('[many]','[MANY]').replace('[few]','[FEW]').replace('[not]','[NOT]'))"
   ]
  },
  {
   "cell_type": "code",
   "execution_count": null,
   "metadata": {},
   "outputs": [],
   "source": [
    "stage2_df['sentence1'] = stage2_quant_s1\n",
    "stage2_df['sentence2'] = stage2_quant_s2\n",
    "stage2_df['sent1_readable'] = stage2_quant_s1_readable\n",
    "stage2_df['sent2_readable'] = stage2_quant_s2_readable\n",
    "stage2_df['sent1_subj_quant'] = quant_subj\n",
    "stage2_df['sent2_subj_quant'] = quant_subj\n",
    "stage2_df['sent1_obj_quant'] = quant_obj\n",
    "stage2_df['sent2_obj_quant'] = quant_obj"
   ]
  },
  {
   "cell_type": "code",
   "execution_count": 262,
   "metadata": {},
   "outputs": [],
   "source": [
    "stage2_df.to_csv('stage2_training_data.csv')"
   ]
  },
  {
   "cell_type": "code",
   "execution_count": null,
   "metadata": {},
   "outputs": [],
   "source": []
  }
 ],
 "metadata": {
  "kernelspec": {
   "display_name": "Python 3",
   "language": "python",
   "name": "python3"
  },
  "language_info": {
   "codemirror_mode": {
    "name": "ipython",
    "version": 3
   },
   "file_extension": ".py",
   "mimetype": "text/x-python",
   "name": "python",
   "nbconvert_exporter": "python",
   "pygments_lexer": "ipython3",
   "version": "3.8.5"
  }
 },
 "nbformat": 4,
 "nbformat_minor": 4
}
