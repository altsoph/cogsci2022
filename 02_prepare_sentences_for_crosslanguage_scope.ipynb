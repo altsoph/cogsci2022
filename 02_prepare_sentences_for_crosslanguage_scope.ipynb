{
 "cells": [
  {
   "cell_type": "code",
   "execution_count": 1,
   "metadata": {},
   "outputs": [],
   "source": [
    "russian_ni = open('ru_test_sentences_ni.tsv', encoding='utf-8').read().split('\\n')\n",
    "russian_ni = [x.split('\\t') for x in russian_ni]\n",
    "russian_libo = open('ru_test_sentences_libo.tsv', encoding='utf-8').read().split('\\n')\n",
    "russian_libo = [x.split('\\t') for x in russian_libo]\n",
    "french = open('fr_test_sentences.tsv', encoding='utf-8').read().split('\\n')\n",
    "french = [x.split('\\t') for x in french]"
   ]
  },
  {
   "cell_type": "code",
   "execution_count": 2,
   "metadata": {},
   "outputs": [],
   "source": [
    "with open('mix_en-ru-ni_test_sentences.tsv', 'w', encoding='utf-8') as ofh:\n",
    "    for s in russian_ni[:10000]:\n",
    "        if s[-1]=='body':\n",
    "            aff = s[0].split(' ')[0] + ' никого ' + s[0].split(' ')[-1]\n",
    "            neg = s[0].split(' ')[0] + \" никого not \" + s[0].split(' ')[-1]\n",
    "            many = \"many \"+ s[0].split(' ')[0] + ' никого ' + s[0].split(' ')[-1]\n",
    "            few = \"few \"+ s[0].split(' ')[0] + ' никого ' + s[0].split(' ')[-1]\n",
    "        elif s[-1]=='thing':\n",
    "            aff = s[0].split(' ')[0] + ' ничего ' + s[0].split(' ')[-1]\n",
    "            neg = s[0].split(' ')[0] + \" ничего not \" + s[0].split(' ')[-1]\n",
    "            many = \"many \"+ s[0].split(' ')[0] + ' ничего ' + s[0].split(' ')[-1]\n",
    "            few = \"few \"+ s[0].split(' ')[0] + ' ничего ' + s[0].split(' ')[-1]\n",
    "        print(\"\\t\".join([aff,neg,many,few]+list(map(str, s[4:]))), file=ofh)"
   ]
  },
  {
   "cell_type": "code",
   "execution_count": 3,
   "metadata": {},
   "outputs": [],
   "source": [
    "with open('mix_en-ru-libo_test_sentences.tsv', 'w', encoding='utf-8') as ofh:\n",
    "    for s in russian_libo[:10000]:\n",
    "        if s[-1]=='body':\n",
    "            aff = s[0].split(' ')[0] + ' ' + s[0].split(' ')[1] +' кого-либо.'\n",
    "            neg = s[0].split(' ')[0] + ' not ' + s[0].split(' ')[1] +' кого-либо.'\n",
    "            many = \"many \"+ s[0].split(' ')[0] + ' ' + s[0].split(' ')[1] +' кого-либо.'\n",
    "            few = \"few \"+ s[0].split(' ')[0] + ' ' + s[0].split(' ')[1] +' кого-либо.'\n",
    "        elif s[-1]=='thing':\n",
    "            aff = s[0].split(' ')[0] + ' ' + s[0].split(' ')[1] +' что-либо.'\n",
    "            neg = s[0].split(' ')[0] + ' not ' + s[0].split(' ')[1] +' чего-либо.'\n",
    "            many = \"many \"+ s[0].split(' ')[0] + ' ' + s[0].split(' ')[1] +' что-либо.'\n",
    "            few = \"few \"+ s[0].split(' ')[0] + ' ' + s[0].split(' ')[1] +' что-либо.'\n",
    "        print(\"\\t\".join([aff,neg,many,few]+list(map(str, s[4:]))), file=ofh)"
   ]
  },
  {
   "cell_type": "code",
   "execution_count": 4,
   "metadata": {},
   "outputs": [],
   "source": [
    "vowels = ['a','h','é','e','è','ê','à','á','â','i','o','u','œ','y']"
   ]
  },
  {
   "cell_type": "code",
   "execution_count": 5,
   "metadata": {},
   "outputs": [],
   "source": [
    "with open('mix_en-fr_test_sentences.tsv', 'w', encoding='utf-8') as ofh:\n",
    "    for s in french[:10000]:\n",
    "        if s[-1]=='body':\n",
    "            aff = 'les ' + s[0].split(' ')[1] + ' ont ' + s[0].split(' ')[3] +' qui que ce soit.'\n",
    "            neg = 'les ' + s[0].split(' ')[1] + ' ont not ' + s[0].split(' ')[3] +' qui que ce soit.'\n",
    "            if s[0].split(' ')[1][0] in vowels:\n",
    "                many = \"many d'\"+ s[0].split(' ')[1] + ' ont ' + s[0].split(' ')[3] +' qui que ce soit.'\n",
    "                few = \"few d'\"+ s[0].split(' ')[1] + ' ont ' + s[0].split(' ')[3] +' qui que ce soit.'\n",
    "            else:\n",
    "                many = \"many de \"+ s[0].split(' ')[1] + ' ont ' + s[0].split(' ')[3] +' qui que ce soit.'\n",
    "                few = \"few de \"+ s[0].split(' ')[1] + ' ont ' + s[0].split(' ')[3] +' qui que ce soit.'\n",
    "        elif s[-1]=='thing':\n",
    "            aff = 'les ' + s[0].split(' ')[1] + ' ont ' + s[0].split(' ')[3] +' quoi que ce soit.'\n",
    "            neg = 'les ' + s[0].split(' ')[1] + ' ont not ' + s[0].split(' ')[3] +' quoi que ce soit.'\n",
    "            if s[0].split(' ')[1][0] in vowels:\n",
    "                many = \"many d'\"+ s[0].split(' ')[1] + ' ont ' + s[0].split(' ')[3] +' quoi que ce soit.'\n",
    "                few = \"few d'\"+ s[0].split(' ')[1] + ' ont ' + s[0].split(' ')[3] +' quoi que ce soit.'\n",
    "            else:\n",
    "                many = \"many de \"+ s[0].split(' ')[1] + ' ont ' + s[0].split(' ')[3] +' quoi que ce soit.'\n",
    "                few = \"few de \"+ s[0].split(' ')[1] + ' ont ' + s[0].split(' ')[3] +' quoi que ce soit.'\n",
    "        print(\"\\t\".join([aff,neg,many,few]+list(map(str, s[4:]))), file=ofh)"
   ]
  },
  {
   "cell_type": "code",
   "execution_count": null,
   "metadata": {},
   "outputs": [],
   "source": []
  }
 ],
 "metadata": {
  "kernelspec": {
   "display_name": "Python 3",
   "language": "python",
   "name": "python3"
  },
  "language_info": {
   "codemirror_mode": {
    "name": "ipython",
    "version": 3
   },
   "file_extension": ".py",
   "mimetype": "text/x-python",
   "name": "python",
   "nbconvert_exporter": "python",
   "pygments_lexer": "ipython3",
   "version": "3.8.5"
  }
 },
 "nbformat": 4,
 "nbformat_minor": 4
}
