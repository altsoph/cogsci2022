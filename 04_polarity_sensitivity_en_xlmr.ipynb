{
 "cells": [
  {
   "cell_type": "code",
   "execution_count": 1,
   "metadata": {},
   "outputs": [],
   "source": [
    "import json\n",
    "\n",
    "import torch\n",
    "import numpy as np\n",
    "import matplotlib.pyplot as plt\n",
    "import transformers\n",
    "\n",
    "from collections import defaultdict #, Counter\n",
    "from transformers import AutoModelForMaskedLM, AutoTokenizer\n",
    "\n",
    "from operator import mul\n",
    "from functools import reduce\n",
    "\n",
    "\n",
    "device = 'cuda:0'\n",
    "softmax = torch.nn.Softmax(dim=-1)\n",
    "torch.manual_seed(0)\n",
    "np.random.seed(0)\n",
    "\n",
    "MODEL_NAME = 'xlm-roberta-large'\n",
    "MASK_TOKEN = '<mask>'\n",
    "PAD_TOKEN = '<pad>'\n",
    "BOS_TOKEN = '<s>'\n",
    "EOS_TOKEN = '</s>'\n",
    "\n",
    "tokenizer = AutoTokenizer.from_pretrained(MODEL_NAME)\n",
    "model = AutoModelForMaskedLM.from_pretrained(MODEL_NAME)\n",
    "device = torch.device('cuda:0')\n",
    "model.to(device)\n",
    "reverse_vocab = {y:x for x, y in tokenizer.vocab.items()}"
   ]
  },
  {
   "cell_type": "code",
   "execution_count": 2,
   "metadata": {},
   "outputs": [
    {
     "name": "stdout",
     "output_type": "stream",
     "text": [
      "1 ['▁anything']\n",
      "2 ['▁any', 'body']\n"
     ]
    }
   ],
   "source": [
    "# let's check the number of tokens in our keywords\n",
    "keywords = ['anything', 'anybody']\n",
    "keywords2tokens = dict()\n",
    "\n",
    "for keyword in keywords:\n",
    "    tokens = tokenizer.tokenize(keyword)\n",
    "    keywords2tokens[keyword] = tokens\n",
    "    print(len(tokens), tokens)\n"
   ]
  },
  {
   "cell_type": "code",
   "execution_count": 3,
   "metadata": {},
   "outputs": [],
   "source": [
    "# parse, mask, tokenize\n",
    "\n",
    "subj_dict = dict()\n",
    "verb_dict = dict()\n",
    "\n",
    "def mask_sent(sent, kword):\n",
    "    return [BOS_TOKEN,] + tokenizer.tokenize( \n",
    "        sent.replace(kword, f'{MASK_TOKEN} '*len(keywords2tokens[kword])).replace('  ',' ') \n",
    "    ) + [EOS_TOKEN,]\n",
    "\n",
    "tokenized_array = []\n",
    "metadata_array = []\n",
    "\n",
    "for idx, line in enumerate(open('en_test_sentences.tsv', encoding='utf-8')):\n",
    "    chunks = line.strip().split()\n",
    "    tchunks = line.strip().split('\\t')\n",
    "\n",
    "    if chunks[-1]=='thing':\n",
    "        kwords = ('anything','anything','anything','anything')\n",
    "    else:\n",
    "        kwords = ('anybody','anybody','anybody','anybody')\n",
    "    \n",
    "    subj_id = int(chunks[-3])\n",
    "    subject = chunks[1]\n",
    "    subj_dict[subj_id] = subject\n",
    "    verb_id = int(chunks[-2])\n",
    "    verb1 = chunks[2]\n",
    "    verb2 = chunks[8]\n",
    "    verb_dict[verb_id] = (verb1, verb2)\n",
    "    \n",
    "    for tidx, (cl,kword) in enumerate( zip( ('aff', 'neg', 'many', 'few'), kwords ) ):\n",
    "        mt_sent = mask_sent(tchunks[tidx], kword)\n",
    "        tokenized_array.append( mt_sent )\n",
    "        metadata_array.append( \n",
    "            (\n",
    "                (cl, subj_id, verb_id, kword, chunks[-1]),\n",
    "                (tchunks[tidx], mt_sent)\n",
    "            )\n",
    "        )\n"
   ]
  },
  {
   "cell_type": "code",
   "execution_count": 4,
   "metadata": {},
   "outputs": [
    {
     "data": {
      "text/plain": [
       "[9.961490832210984e-06,\n",
       " 7.89411278674379e-05,\n",
       " 2.747809446645988e-07,\n",
       " 1.857751158240717e-06,\n",
       " 0.0003162752836942673,\n",
       " 0.1610874980688095,\n",
       " 1.661290843912866e-05,\n",
       " 0.00010101577208843082]"
      ]
     },
     "execution_count": 4,
     "metadata": {},
     "output_type": "execute_result"
    }
   ],
   "source": [
    "def assess_batch(batch, metas):\n",
    "    batch_input_ids = []\n",
    "    batch_segment_ids = []\n",
    "    \n",
    "    mask_positions = []\n",
    "    mask_lens = []\n",
    "\n",
    "    max_len = max(map(len,batch))\n",
    "    \n",
    "    for s in batch:\n",
    "        mask_positions.append( s.index(MASK_TOKEN) )\n",
    "        mask_lens.append( s.count(MASK_TOKEN) )\n",
    "        \n",
    "        input_ids = tokenizer.convert_tokens_to_ids(s + [PAD_TOKEN,]*(max_len-len(s)))\n",
    "        batch_input_ids.append( input_ids )\n",
    "        batch_segment_ids.append( [0] * len(input_ids) )\n",
    "\n",
    "    input_ids = torch.tensor(batch_input_ids, dtype=torch.long).to(device)\n",
    "    segment_ids = torch.tensor(batch_segment_ids, dtype=torch.long).to(device)\n",
    "    logits = model(input_ids, token_type_ids=segment_ids)[0]\n",
    "    probs = softmax(logits)\n",
    "    \n",
    "    return [\n",
    "        reduce(mul, [pr[pos+t_pos][tokenizer.vocab[tok]].cpu().detach().numpy() \\\n",
    "            for t_pos, tok in enumerate(keywords2tokens[meta[0][3]]) ], 1. ) \\\n",
    "                for pr, pos, meta in zip(probs, mask_positions, metas)\n",
    "    ]\n",
    "        \n",
    "assess_batch(tokenized_array[128*4:130*4], metadata_array[126*4:130*4])"
   ]
  },
  {
   "cell_type": "code",
   "execution_count": 7,
   "metadata": {
    "scrolled": true
   },
   "outputs": [
    {
     "name": "stdout",
     "output_type": "stream",
     "text": [
      "0.00%\n",
      "0.50%\n",
      "1.00%\n",
      "1.50%\n",
      "2.00%\n",
      "2.50%\n",
      "3.00%\n",
      "3.50%\n",
      "4.00%\n",
      "4.50%\n",
      "5.00%\n",
      "5.50%\n",
      "6.00%\n",
      "6.50%\n",
      "7.00%\n",
      "7.50%\n",
      "8.00%\n",
      "8.50%\n",
      "9.00%\n",
      "9.50%\n",
      "10.00%\n",
      "10.50%\n",
      "11.00%\n",
      "11.50%\n",
      "12.00%\n",
      "12.50%\n",
      "13.00%\n",
      "13.50%\n",
      "14.00%\n",
      "14.50%\n",
      "15.00%\n",
      "15.50%\n",
      "16.00%\n",
      "16.50%\n",
      "17.00%\n",
      "17.50%\n",
      "18.00%\n",
      "18.50%\n",
      "19.00%\n",
      "19.50%\n",
      "20.00%\n",
      "20.50%\n",
      "21.00%\n",
      "21.50%\n",
      "22.00%\n",
      "22.50%\n",
      "23.00%\n",
      "23.50%\n",
      "24.00%\n",
      "24.50%\n",
      "25.00%\n",
      "25.50%\n",
      "26.00%\n",
      "26.50%\n",
      "27.00%\n",
      "27.50%\n",
      "28.00%\n",
      "28.50%\n",
      "29.00%\n",
      "29.50%\n",
      "30.00%\n",
      "30.50%\n",
      "31.00%\n",
      "31.50%\n",
      "32.00%\n",
      "32.50%\n",
      "33.00%\n",
      "33.50%\n",
      "34.00%\n",
      "34.50%\n",
      "35.00%\n",
      "35.50%\n",
      "36.00%\n",
      "36.50%\n",
      "37.00%\n",
      "37.50%\n",
      "38.00%\n",
      "38.50%\n",
      "39.00%\n",
      "39.50%\n",
      "40.00%\n",
      "40.50%\n",
      "41.00%\n",
      "41.50%\n",
      "42.00%\n",
      "42.50%\n",
      "43.00%\n",
      "43.50%\n",
      "44.00%\n",
      "44.50%\n",
      "45.00%\n",
      "45.50%\n",
      "46.00%\n",
      "46.50%\n",
      "47.00%\n",
      "47.50%\n",
      "48.00%\n",
      "48.50%\n",
      "49.00%\n",
      "49.50%\n",
      "50.00%\n",
      "50.50%\n",
      "51.00%\n",
      "51.50%\n",
      "52.00%\n",
      "52.50%\n",
      "53.00%\n",
      "53.50%\n",
      "54.00%\n",
      "54.50%\n",
      "55.00%\n",
      "55.50%\n",
      "56.00%\n",
      "56.50%\n",
      "57.00%\n",
      "57.50%\n",
      "58.00%\n",
      "58.50%\n",
      "59.00%\n",
      "59.50%\n",
      "60.00%\n",
      "60.50%\n",
      "61.00%\n",
      "61.50%\n",
      "62.00%\n",
      "62.50%\n",
      "63.00%\n",
      "63.50%\n",
      "64.00%\n",
      "64.50%\n",
      "65.00%\n",
      "65.50%\n",
      "66.00%\n",
      "66.50%\n",
      "67.00%\n",
      "67.50%\n",
      "68.00%\n",
      "68.50%\n",
      "69.00%\n",
      "69.50%\n",
      "70.00%\n",
      "70.50%\n",
      "71.00%\n",
      "71.50%\n",
      "72.00%\n",
      "72.50%\n",
      "73.00%\n",
      "73.50%\n",
      "74.00%\n",
      "74.50%\n",
      "75.00%\n",
      "75.50%\n",
      "76.00%\n",
      "76.50%\n",
      "77.00%\n",
      "77.50%\n",
      "78.00%\n",
      "78.50%\n",
      "79.00%\n",
      "79.50%\n",
      "80.00%\n",
      "80.50%\n",
      "81.00%\n",
      "81.50%\n",
      "82.00%\n",
      "82.50%\n",
      "83.00%\n",
      "83.50%\n",
      "84.00%\n",
      "84.50%\n",
      "85.00%\n",
      "85.50%\n",
      "86.00%\n",
      "86.50%\n",
      "87.00%\n",
      "87.50%\n",
      "88.00%\n",
      "88.50%\n",
      "89.00%\n",
      "89.50%\n",
      "90.00%\n",
      "90.50%\n",
      "91.00%\n",
      "91.50%\n",
      "92.00%\n",
      "92.50%\n",
      "93.00%\n",
      "93.50%\n",
      "94.00%\n",
      "94.50%\n",
      "95.00%\n",
      "95.50%\n",
      "96.00%\n",
      "96.50%\n",
      "97.00%\n",
      "97.50%\n",
      "98.00%\n",
      "98.50%\n",
      "99.00%\n",
      "99.50%\n"
     ]
    }
   ],
   "source": [
    "# assess all the sentences\n",
    "\n",
    "BATCH_SIZE = 40\n",
    "\n",
    "scores = []\n",
    "for idx in range(0, len(tokenized_array), BATCH_SIZE):\n",
    "    if not idx%200: print(f'{idx/(len(tokenized_array)):.2%}')\n",
    "    scores.extend( assess_batch(tokenized_array[idx:idx+BATCH_SIZE], metadata_array[idx:idx+BATCH_SIZE]) )"
   ]
  },
  {
   "cell_type": "code",
   "execution_count": 8,
   "metadata": {},
   "outputs": [
    {
     "data": {
      "text/plain": [
       "40000"
      ]
     },
     "execution_count": 8,
     "metadata": {},
     "output_type": "execute_result"
    }
   ],
   "source": [
    "len(scores)"
   ]
  },
  {
   "cell_type": "code",
   "execution_count": 9,
   "metadata": {},
   "outputs": [],
   "source": [
    "# reshape scores\n",
    "stats = defaultdict(lambda:defaultdict(lambda:defaultdict(float)))\n",
    "\n",
    "for score, meta in zip(scores, metadata_array):\n",
    "    if meta[0][0]=='aff':\n",
    "        handle = (meta[0][4], 'aff>neg')\n",
    "        k_idx = 0\n",
    "    if meta[0][0]=='neg':\n",
    "        handle = (meta[0][4], 'aff>neg')\n",
    "        k_idx = 1\n",
    "    if meta[0][0]=='many':\n",
    "        handle = (meta[0][4], 'many>few')\n",
    "        k_idx = 0\n",
    "    if meta[0][0]=='few':\n",
    "        handle = (meta[0][4], 'many>few')\n",
    "        k_idx = 1\n",
    "    stats[handle][(meta[0][1], meta[0][2])][k_idx] = score\n",
    "    handle = ('both', handle[1])\n",
    "    stats[handle][(meta[0][1], meta[0][2])][k_idx] += score\n"
   ]
  },
  {
   "cell_type": "code",
   "execution_count": 10,
   "metadata": {},
   "outputs": [
    {
     "name": "stdout",
     "output_type": "stream",
     "text": [
      "('body', 'aff>neg')   0.509%\n",
      "('body', 'many>few')   37.861%\n",
      "('both', 'aff>neg')   0.350%\n",
      "('both', 'many>few')   25.266%\n",
      "('thing', 'aff>neg')   0.351%\n",
      "('thing', 'many>few')   25.221%\n"
     ]
    }
   ],
   "source": [
    "for handle in sorted(stats):\n",
    "    print(handle, \n",
    "          f'  {np.count_nonzero(list(map(lambda x:x[0]>x[1], stats[handle].values())))/len(stats[handle].values()):0.3%}')"
   ]
  },
  {
   "cell_type": "code",
   "execution_count": 11,
   "metadata": {},
   "outputs": [
    {
     "data": {
      "text/plain": [
       "(array([3.000e+00, 2.000e+00, 1.000e+00, 4.000e+00, 6.000e+00, 2.000e+00,\n",
       "        8.000e+00, 2.400e+01, 2.560e+02, 8.516e+03]),\n",
       " array([-0.14569315, -0.12968842, -0.1136837 , -0.09767897, -0.08167424,\n",
       "        -0.06566952, -0.04966479, -0.03366006, -0.01765534, -0.00165061,\n",
       "         0.01435412]),\n",
       " <BarContainer object of 10 artists>)"
      ]
     },
     "execution_count": 11,
     "metadata": {},
     "output_type": "execute_result"
    },
    {
     "data": {
      "image/png": "[encoded data removed]",
      "text/plain": [
       "<Figure size 432x288 with 1 Axes>"
      ]
     },
     "metadata": {
      "needs_background": "light"
     },
     "output_type": "display_data"
    }
   ],
   "source": [
    "plt.hist(list(map(lambda x:x[0]-x[1],stats[('thing', 'many>few')].values())))"
   ]
  },
  {
   "cell_type": "code",
   "execution_count": 12,
   "metadata": {},
   "outputs": [
    {
     "data": {
      "text/plain": [
       "(array([3.000e+00, 7.000e+00, 1.700e+01, 3.800e+01, 9.200e+01, 1.860e+02,\n",
       "        2.790e+02, 4.590e+02, 1.143e+03, 6.598e+03]),\n",
       " array([-0.89432022, -0.8029981 , -0.71167598, -0.62035386, -0.52903174,\n",
       "        -0.43770962, -0.3463875 , -0.25506538, -0.16374326, -0.07242114,\n",
       "         0.01890098]),\n",
       " <BarContainer object of 10 artists>)"
      ]
     },
     "execution_count": 12,
     "metadata": {},
     "output_type": "execute_result"
    },
    {
     "data": {
      "image/png": "[encoded data removed]",
      "text/plain": [
       "<Figure size 432x288 with 1 Axes>"
      ]
     },
     "metadata": {
      "needs_background": "light"
     },
     "output_type": "display_data"
    }
   ],
   "source": [
    "plt.hist(list(map(lambda x:x[0]-x[1],stats[('thing', 'aff>neg')].values())))"
   ]
  },
  {
   "cell_type": "code",
   "execution_count": null,
   "metadata": {},
   "outputs": [],
   "source": []
  },
  {
   "cell_type": "code",
   "execution_count": null,
   "metadata": {},
   "outputs": [],
   "source": []
  }
 ],
 "metadata": {
  "kernelspec": {
   "display_name": "Python 3",
   "language": "python",
   "name": "python3"
  },
  "language_info": {
   "codemirror_mode": {
    "name": "ipython",
    "version": 3
   },
   "file_extension": ".py",
   "mimetype": "text/x-python",
   "name": "python",
   "nbconvert_exporter": "python",
   "pygments_lexer": "ipython3",
   "version": "3.8.5"
  }
 },
 "nbformat": 4,
 "nbformat_minor": 4
}
