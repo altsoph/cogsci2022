{
 "cells": [
  {
   "cell_type": "code",
   "execution_count": 1,
   "metadata": {},
   "outputs": [],
   "source": [
    "import json\n",
    "\n",
    "import torch\n",
    "import numpy as np\n",
    "import matplotlib.pyplot as plt\n",
    "import transformers\n",
    "\n",
    "from collections import defaultdict #, Counter\n",
    "from transformers import AutoModelForMaskedLM, AutoTokenizer\n",
    "\n",
    "from operator import mul\n",
    "from functools import reduce\n",
    "\n",
    "device = 'cuda:0'\n",
    "softmax = torch.nn.Softmax(dim=-1)\n",
    "torch.manual_seed(0)\n",
    "np.random.seed(0)\n",
    "\n",
    "MODEL_NAME = 'xlm-roberta-large'\n",
    "MASK_TOKEN = '<mask>'\n",
    "PAD_TOKEN = '<pad>'\n",
    "BOS_TOKEN = '<s>'\n",
    "EOS_TOKEN = '</s>'\n",
    "\n",
    "tokenizer = AutoTokenizer.from_pretrained(MODEL_NAME)\n",
    "model = AutoModelForMaskedLM.from_pretrained(MODEL_NAME)\n",
    "device = torch.device('cuda:0')\n",
    "model.to(device)\n",
    "reverse_vocab = {y:x for x, y in tokenizer.vocab.items()}"
   ]
  },
  {
   "cell_type": "code",
   "execution_count": 2,
   "metadata": {},
   "outputs": [
    {
     "name": "stdout",
     "output_type": "stream",
     "text": [
      "4 ['▁quoi', '▁que', '▁ce', '▁soit']\n",
      "4 ['▁qui', '▁que', '▁ce', '▁soit']\n"
     ]
    }
   ],
   "source": [
    "# let's check the number of tokens in our keywords\n",
    "keywords = ['quoi que ce soit', 'qui que ce soit']\n",
    "keywords2tokens = dict()\n",
    "\n",
    "for keyword in keywords:\n",
    "    tokens = tokenizer.tokenize(keyword)\n",
    "    keywords2tokens[keyword] = tokens\n",
    "    print(len(tokens), tokens)"
   ]
  },
  {
   "cell_type": "code",
   "execution_count": 5,
   "metadata": {},
   "outputs": [],
   "source": [
    "# parse, mask, tokenize\n",
    "\n",
    "subj_dict = dict()\n",
    "verb_dict = dict()\n",
    "\n",
    "def mask_sent(sent, kword):\n",
    "    return [BOS_TOKEN,] + tokenizer.tokenize( \n",
    "        sent.replace(kword, f'{MASK_TOKEN} '*len(keywords2tokens[kword])).replace('  ',' ') \n",
    "    ) + [EOS_TOKEN,]\n",
    "\n",
    "tokenized_array = []\n",
    "metadata_array = []\n",
    "\n",
    "for idx, line in enumerate(open('fr_test_sentences.tsv', encoding='utf-8')):\n",
    "    chunks = line.strip().split()\n",
    "    tchunks = line.strip().split('\\t')\n",
    "\n",
    "    if chunks[-1]=='thing':\n",
    "        kwords = ('quoi que ce soit','quoi que ce soit','quoi que ce soit','quoi que ce soit')\n",
    "    else:\n",
    "        kwords = ('qui que ce soit','qui que ce soit','qui que ce soit','qui que ce soit')\n",
    "    \n",
    "    subj_id = int(chunks[-3])\n",
    "    subject = chunks[1]\n",
    "    subj_dict[subj_id] = subject\n",
    "    verb_id = int(chunks[-2])\n",
    "    verb1 = chunks[2]\n",
    "    verb2 = chunks[8]\n",
    "    verb_dict[verb_id] = (verb1, verb2)\n",
    "    \n",
    "    for tidx, (cl,kword) in enumerate( zip( ('aff', 'neg', 'many', 'few'), kwords ) ):\n",
    "        mt_sent = mask_sent(tchunks[tidx], kword)\n",
    "        tokenized_array.append( mt_sent )\n",
    "        metadata_array.append( \n",
    "            (\n",
    "                (cl, subj_id, verb_id, kword, chunks[-1]),\n",
    "                (tchunks[tidx], mt_sent)\n",
    "            )\n",
    "        )\n"
   ]
  },
  {
   "cell_type": "code",
   "execution_count": 6,
   "metadata": {},
   "outputs": [
    {
     "data": {
      "text/plain": [
       "[7.954800416581829e-14,\n",
       " 3.1180751809099296e-13,\n",
       " 2.1395098411769068e-14,\n",
       " 6.124073711563813e-13,\n",
       " 5.743261161927315e-15,\n",
       " 6.965980860788037e-14,\n",
       " 6.622814735441446e-15,\n",
       " 9.095427855534049e-13]"
      ]
     },
     "execution_count": 6,
     "metadata": {},
     "output_type": "execute_result"
    }
   ],
   "source": [
    "def assess_batch(batch, metas):\n",
    "    batch_input_ids = []\n",
    "    batch_segment_ids = []\n",
    "    \n",
    "    mask_positions = []\n",
    "    mask_lens = []\n",
    "\n",
    "    max_len = max(map(len,batch))\n",
    "    \n",
    "    for s in batch:\n",
    "        mask_positions.append( s.index(MASK_TOKEN) )\n",
    "        mask_lens.append( s.count(MASK_TOKEN) )\n",
    "        \n",
    "        input_ids = tokenizer.convert_tokens_to_ids(s + [PAD_TOKEN,]*(max_len-len(s)))\n",
    "        batch_input_ids.append( input_ids )\n",
    "        batch_segment_ids.append( [0] * len(input_ids) )\n",
    "\n",
    "    input_ids = torch.tensor(batch_input_ids, dtype=torch.long).to(device)\n",
    "    segment_ids = torch.tensor(batch_segment_ids, dtype=torch.long).to(device)\n",
    "    logits = model(input_ids, token_type_ids=segment_ids)[0]\n",
    "    probs = softmax(logits)\n",
    "    \n",
    "    return [\n",
    "        reduce(mul, [pr[pos+t_pos][tokenizer.vocab[tok]].cpu().detach().numpy() \\\n",
    "            for t_pos, tok in enumerate(keywords2tokens[meta[0][3]]) ], 1. ) \\\n",
    "                for pr, pos, meta in zip(probs, mask_positions, metas)\n",
    "    ]\n",
    "        \n",
    "assess_batch(tokenized_array[128*4:130*4], metadata_array[126*4:130*4])"
   ]
  },
  {
   "cell_type": "code",
   "execution_count": 7,
   "metadata": {
    "scrolled": true
   },
   "outputs": [
    {
     "name": "stdout",
     "output_type": "stream",
     "text": [
      "0.00%\n",
      "1.00%\n",
      "2.00%\n",
      "3.00%\n",
      "4.00%\n",
      "5.00%\n",
      "6.00%\n",
      "7.00%\n",
      "8.00%\n",
      "9.00%\n",
      "10.00%\n",
      "11.00%\n",
      "12.00%\n",
      "13.00%\n",
      "14.00%\n",
      "15.00%\n",
      "16.00%\n",
      "17.00%\n",
      "18.00%\n",
      "19.00%\n",
      "20.00%\n",
      "21.00%\n",
      "22.00%\n",
      "23.00%\n",
      "24.00%\n",
      "25.00%\n",
      "26.00%\n",
      "27.00%\n",
      "28.00%\n",
      "29.00%\n",
      "30.00%\n",
      "31.00%\n",
      "32.00%\n",
      "33.00%\n",
      "34.00%\n",
      "35.00%\n",
      "36.00%\n",
      "37.00%\n",
      "38.00%\n",
      "39.00%\n",
      "40.00%\n",
      "41.00%\n",
      "42.00%\n",
      "43.00%\n",
      "44.00%\n",
      "45.00%\n",
      "46.00%\n",
      "47.00%\n",
      "48.00%\n",
      "49.00%\n",
      "50.00%\n",
      "51.00%\n",
      "52.00%\n",
      "53.00%\n",
      "54.00%\n",
      "55.00%\n",
      "56.00%\n",
      "57.00%\n",
      "58.00%\n",
      "59.00%\n",
      "60.00%\n",
      "61.00%\n",
      "62.00%\n",
      "63.00%\n",
      "64.00%\n",
      "65.00%\n",
      "66.00%\n",
      "67.00%\n",
      "68.00%\n",
      "69.00%\n",
      "70.00%\n",
      "71.00%\n",
      "72.00%\n",
      "73.00%\n",
      "74.00%\n",
      "75.00%\n",
      "76.00%\n",
      "77.00%\n",
      "78.00%\n",
      "79.00%\n",
      "80.00%\n",
      "81.00%\n",
      "82.00%\n",
      "83.00%\n",
      "84.00%\n",
      "85.00%\n",
      "86.00%\n",
      "87.00%\n",
      "88.00%\n",
      "89.00%\n",
      "90.00%\n",
      "91.00%\n",
      "92.00%\n",
      "93.00%\n",
      "94.00%\n",
      "95.00%\n",
      "96.00%\n",
      "97.00%\n",
      "98.00%\n",
      "99.00%\n"
     ]
    }
   ],
   "source": [
    "# assess all the sentences\n",
    "\n",
    "BATCH_SIZE = 40\n",
    "\n",
    "scores = []\n",
    "for idx in range(0, len(tokenized_array), BATCH_SIZE):\n",
    "    if not idx%400: print(f'{idx/(len(tokenized_array)):.2%}')\n",
    "    scores.extend( assess_batch(tokenized_array[idx:idx+BATCH_SIZE], metadata_array[idx:idx+BATCH_SIZE]) )"
   ]
  },
  {
   "cell_type": "code",
   "execution_count": 8,
   "metadata": {},
   "outputs": [
    {
     "data": {
      "text/plain": [
       "40000"
      ]
     },
     "execution_count": 8,
     "metadata": {},
     "output_type": "execute_result"
    }
   ],
   "source": [
    "len(scores)"
   ]
  },
  {
   "cell_type": "code",
   "execution_count": 9,
   "metadata": {},
   "outputs": [],
   "source": [
    "# reshape scores\n",
    "stats = defaultdict(lambda:defaultdict(lambda:defaultdict(float)))\n",
    "\n",
    "for score, meta in zip(scores, metadata_array):\n",
    "    if meta[0][0]=='aff':\n",
    "        handle = (meta[0][4], 'aff>neg')\n",
    "        k_idx = 0\n",
    "    if meta[0][0]=='neg':\n",
    "        handle = (meta[0][4], 'aff>neg')\n",
    "        k_idx = 1\n",
    "    if meta[0][0]=='many':\n",
    "        handle = (meta[0][4], 'many>few')\n",
    "        k_idx = 0\n",
    "    if meta[0][0]=='few':\n",
    "        handle = (meta[0][4], 'many>few')\n",
    "        k_idx = 1\n",
    "    stats[handle][(meta[0][1], meta[0][2])][k_idx] = score\n",
    "    handle = ('both', handle[1])\n",
    "    stats[handle][(meta[0][1], meta[0][2])][k_idx] += score\n"
   ]
  },
  {
   "cell_type": "code",
   "execution_count": 13,
   "metadata": {},
   "outputs": [
    {
     "name": "stdout",
     "output_type": "stream",
     "text": [
      "('both', 'aff>neg')   37.100%\n",
      "('both', 'many>few')   32.930%\n",
      "('thing', 'aff>neg')   37.100%\n",
      "('thing', 'many>few')   32.930%\n"
     ]
    }
   ],
   "source": [
    "for handle in sorted(stats):\n",
    "    print(handle, \n",
    "          f'  {np.count_nonzero(list(map(lambda x:x[0]>x[1], stats[handle].values())))/len(stats[handle].values()):0.3%}')"
   ]
  },
  {
   "cell_type": "code",
   "execution_count": 11,
   "metadata": {},
   "outputs": [
    {
     "data": {
      "text/plain": [
       "(array([1.900e+01, 9.951e+03, 2.100e+01, 5.000e+00, 2.000e+00, 1.000e+00,\n",
       "        0.000e+00, 0.000e+00, 0.000e+00, 1.000e+00]),\n",
       " array([-1.04967841e-09, -3.79126983e-10,  2.91424448e-10,  9.61975879e-10,\n",
       "         1.63252731e-09,  2.30307874e-09,  2.97363017e-09,  3.64418160e-09,\n",
       "         4.31473303e-09,  4.98528446e-09,  5.65583590e-09]),\n",
       " <BarContainer object of 10 artists>)"
      ]
     },
     "execution_count": 11,
     "metadata": {},
     "output_type": "execute_result"
    },
    {
     "data": {
      "image/png": "[encoded data removed]",
      "text/plain": [
       "<Figure size 432x288 with 1 Axes>"
      ]
     },
     "metadata": {
      "needs_background": "light"
     },
     "output_type": "display_data"
    }
   ],
   "source": [
    "plt.hist(list(map(lambda x:x[0]-x[1],stats[('thing', 'many>few')].values())))"
   ]
  },
  {
   "cell_type": "code",
   "execution_count": 12,
   "metadata": {},
   "outputs": [
    {
     "data": {
      "text/plain": [
       "(array([2.000e+00, 0.000e+00, 2.000e+00, 4.000e+00, 2.900e+01, 9.929e+03,\n",
       "        2.700e+01, 5.000e+00, 1.000e+00, 1.000e+00]),\n",
       " array([-8.38799243e-10, -6.90393715e-10, -5.41988187e-10, -3.93582659e-10,\n",
       "        -2.45177131e-10, -9.67716031e-11,  5.16339250e-11,  2.00039453e-10,\n",
       "         3.48444981e-10,  4.96850509e-10,  6.45256037e-10]),\n",
       " <BarContainer object of 10 artists>)"
      ]
     },
     "execution_count": 12,
     "metadata": {},
     "output_type": "execute_result"
    },
    {
     "data": {
      "image/png": "[encoded data removed]",
      "text/plain": [
       "<Figure size 432x288 with 1 Axes>"
      ]
     },
     "metadata": {
      "needs_background": "light"
     },
     "output_type": "display_data"
    }
   ],
   "source": [
    "plt.hist(list(map(lambda x:x[0]-x[1],stats[('thing', 'aff>neg')].values())))"
   ]
  },
  {
   "cell_type": "code",
   "execution_count": null,
   "metadata": {},
   "outputs": [],
   "source": []
  },
  {
   "cell_type": "code",
   "execution_count": null,
   "metadata": {},
   "outputs": [],
   "source": []
  }
 ],
 "metadata": {
  "kernelspec": {
   "display_name": "Python 3",
   "language": "python",
   "name": "python3"
  },
  "language_info": {
   "codemirror_mode": {
    "name": "ipython",
    "version": 3
   },
   "file_extension": ".py",
   "mimetype": "text/x-python",
   "name": "python",
   "nbconvert_exporter": "python",
   "pygments_lexer": "ipython3",
   "version": "3.8.5"
  }
 },
 "nbformat": 4,
 "nbformat_minor": 4
}
