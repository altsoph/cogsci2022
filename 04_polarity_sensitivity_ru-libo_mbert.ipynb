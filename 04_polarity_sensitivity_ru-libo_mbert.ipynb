{
 "cells": [
  {
   "cell_type": "code",
   "execution_count": 5,
   "metadata": {},
   "outputs": [
    {
     "name": "stderr",
     "output_type": "stream",
     "text": [
      "Some weights of the model checkpoint at bert-base-multilingual-uncased were not used when initializing BertForMaskedLM: ['cls.seq_relationship.weight', 'cls.seq_relationship.bias']\n",
      "- This IS expected if you are initializing BertForMaskedLM from the checkpoint of a model trained on another task or with another architecture (e.g. initializing a BertForSequenceClassification model from a BertForPreTraining model).\n",
      "- This IS NOT expected if you are initializing BertForMaskedLM from the checkpoint of a model that you expect to be exactly identical (initializing a BertForSequenceClassification model from a BertForSequenceClassification model).\n"
     ]
    }
   ],
   "source": [
    "# import time\n",
    "# import datetime\n",
    "# import pickle\n",
    "# import random\n",
    "import json\n",
    "\n",
    "import torch\n",
    "import numpy as np\n",
    "# import pandas as pd\n",
    "import matplotlib.pyplot as plt\n",
    "import transformers\n",
    "\n",
    "# from torch.utils.data import random_split\n",
    "from collections import defaultdict, Counter\n",
    "from transformers import BertForMaskedLM, BertTokenizer\n",
    "# from torch.utils.data import DataLoader, RandomSampler, SequentialSampler\n",
    "# from transformers import get_linear_schedule_with_warmup\n",
    "# import statsmodels.stats.proportion\n",
    "\n",
    "from operator import mul\n",
    "from functools import reduce\n",
    "\n",
    "\n",
    "device = 'cuda:0'\n",
    "softmax = torch.nn.Softmax(dim=-1)\n",
    "torch.manual_seed(0)\n",
    "np.random.seed(0)\n",
    "\n",
    "MODEL_NAME = 'bert-base-multilingual-uncased'\n",
    "\n",
    "tokenizer = BertTokenizer.from_pretrained(MODEL_NAME)\n",
    "model = BertForMaskedLM.from_pretrained(MODEL_NAME)\n",
    "device = torch.device('cuda:0')\n",
    "model.to(device)\n",
    "reverse_vocab = {y:x for x, y in tokenizer.vocab.items()}"
   ]
  },
  {
   "cell_type": "code",
   "execution_count": 6,
   "metadata": {},
   "outputs": [
    {
     "name": "stdout",
     "output_type": "stream",
     "text": [
      "3 ['что', '-', 'либо']\n",
      "3 ['чего', '-', 'либо']\n",
      "3 ['кто', '-', 'либо']\n",
      "3 ['кого', '-', 'либо']\n"
     ]
    }
   ],
   "source": [
    "# let's check the number of tokens in our keywords\n",
    "keywords = ['что-либо', 'чего-либо', 'кто-либо', 'кого-либо']\n",
    "keywords2tokens = dict()\n",
    "\n",
    "for keyword in keywords:\n",
    "    tokens = tokenizer.tokenize(keyword)\n",
    "    keywords2tokens[keyword] = tokens\n",
    "    print(len(tokens), tokens)\n"
   ]
  },
  {
   "cell_type": "code",
   "execution_count": 7,
   "metadata": {},
   "outputs": [],
   "source": [
    "# parse, mask, tokenize\n",
    "\n",
    "subj_dict = dict()\n",
    "verb_dict = dict()\n",
    "\n",
    "def mask_sent(sent, kword):\n",
    "    return ['[CLS]',] + tokenizer.tokenize( \n",
    "        sent.replace(kword, '[MASK] '*len(keywords2tokens[kword])).replace('  ',' ') \n",
    "    ) + ['[SEP]',]\n",
    "\n",
    "tokenized_array = []\n",
    "metadata_array = []\n",
    "\n",
    "for idx, line in enumerate(open('ru_test_sentences_libo.tsv', encoding='utf-8')):\n",
    "    chunks = line.strip().split()\n",
    "    tchunks = line.strip().split('\\t')\n",
    "\n",
    "    if chunks[-1]=='thing':\n",
    "        kwords = ('что-либо','чего-либо','что-либо','что-либо',)\n",
    "    else:\n",
    "        kwords = ('кого-либо','кого-либо','кого-либо','кого-либо',)\n",
    "\n",
    "    subj_id = int(chunks[-3])\n",
    "    subject = chunks[1]\n",
    "    subj_dict[subj_id] = subject\n",
    "    verb_id = int(chunks[-2])\n",
    "    verb1 = chunks[2]\n",
    "    verb2 = chunks[8]\n",
    "    verb_dict[verb_id] = (verb1, verb2)\n",
    "    \n",
    "    for tidx, (cl,kword) in enumerate( zip( ('aff', 'neg', 'many', 'few'), kwords ) ):\n",
    "        mt_sent = mask_sent(tchunks[tidx], kword)\n",
    "        tokenized_array.append( mt_sent )\n",
    "        metadata_array.append( \n",
    "            (\n",
    "                (cl, subj_id, verb_id, kword, chunks[-1]),\n",
    "                (tchunks[tidx], mt_sent)\n",
    "            )\n",
    "        )\n"
   ]
  },
  {
   "cell_type": "code",
   "execution_count": 8,
   "metadata": {},
   "outputs": [
    {
     "data": {
      "text/plain": [
       "[(('aff', 1, 21, 'что-либо', 'thing'),\n",
       "  ('люди делали что-либо.',\n",
       "   ['[CLS]',\n",
       "    'люди',\n",
       "    'дела',\n",
       "    '##ли',\n",
       "    '[MASK]',\n",
       "    '[MASK]',\n",
       "    '[MASK]',\n",
       "    '.',\n",
       "    '[SEP]'])),\n",
       " (('neg', 1, 21, 'чего-либо', 'thing'),\n",
       "  ('люди не делали чего-либо.',\n",
       "   ['[CLS]',\n",
       "    'люди',\n",
       "    'не',\n",
       "    'дела',\n",
       "    '##ли',\n",
       "    '[MASK]',\n",
       "    '[MASK]',\n",
       "    '[MASK]',\n",
       "    '.',\n",
       "    '[SEP]'])),\n",
       " (('many', 1, 21, 'что-либо', 'thing'),\n",
       "  ('многие люди делали что-либо.',\n",
       "   ['[CLS]',\n",
       "    'многие',\n",
       "    'люди',\n",
       "    'дела',\n",
       "    '##ли',\n",
       "    '[MASK]',\n",
       "    '[MASK]',\n",
       "    '[MASK]',\n",
       "    '.',\n",
       "    '[SEP]'])),\n",
       " (('few', 1, 21, 'что-либо', 'thing'),\n",
       "  ('немногие люди делали что-либо.',\n",
       "   ['[CLS]',\n",
       "    'нем',\n",
       "    '##ног',\n",
       "    '##ие',\n",
       "    'люди',\n",
       "    'дела',\n",
       "    '##ли',\n",
       "    '[MASK]',\n",
       "    '[MASK]',\n",
       "    '[MASK]',\n",
       "    '.',\n",
       "    '[SEP]'])),\n",
       " (('aff', 1, 18, 'что-либо', 'thing'),\n",
       "  ('люди сделали что-либо.',\n",
       "   ['[CLS]',\n",
       "    'люди',\n",
       "    'сделал',\n",
       "    '##и',\n",
       "    '[MASK]',\n",
       "    '[MASK]',\n",
       "    '[MASK]',\n",
       "    '.',\n",
       "    '[SEP]'])),\n",
       " (('neg', 1, 18, 'чего-либо', 'thing'),\n",
       "  ('люди не сделали чего-либо.',\n",
       "   ['[CLS]',\n",
       "    'люди',\n",
       "    'не',\n",
       "    'сделал',\n",
       "    '##и',\n",
       "    '[MASK]',\n",
       "    '[MASK]',\n",
       "    '[MASK]',\n",
       "    '.',\n",
       "    '[SEP]'])),\n",
       " (('many', 1, 18, 'что-либо', 'thing'),\n",
       "  ('многие люди сделали что-либо.',\n",
       "   ['[CLS]',\n",
       "    'многие',\n",
       "    'люди',\n",
       "    'сделал',\n",
       "    '##и',\n",
       "    '[MASK]',\n",
       "    '[MASK]',\n",
       "    '[MASK]',\n",
       "    '.',\n",
       "    '[SEP]'])),\n",
       " (('few', 1, 18, 'что-либо', 'thing'),\n",
       "  ('немногие люди сделали что-либо.',\n",
       "   ['[CLS]',\n",
       "    'нем',\n",
       "    '##ног',\n",
       "    '##ие',\n",
       "    'люди',\n",
       "    'сделал',\n",
       "    '##и',\n",
       "    '[MASK]',\n",
       "    '[MASK]',\n",
       "    '[MASK]',\n",
       "    '.',\n",
       "    '[SEP]'])),\n",
       " (('aff', 1, 26, 'что-либо', 'thing'),\n",
       "  ('люди видели что-либо.',\n",
       "   ['[CLS]',\n",
       "    'люди',\n",
       "    'виде',\n",
       "    '##ли',\n",
       "    '[MASK]',\n",
       "    '[MASK]',\n",
       "    '[MASK]',\n",
       "    '.',\n",
       "    '[SEP]'])),\n",
       " (('neg', 1, 26, 'чего-либо', 'thing'),\n",
       "  ('люди не видели чего-либо.',\n",
       "   ['[CLS]',\n",
       "    'люди',\n",
       "    'не',\n",
       "    'виде',\n",
       "    '##ли',\n",
       "    '[MASK]',\n",
       "    '[MASK]',\n",
       "    '[MASK]',\n",
       "    '.',\n",
       "    '[SEP]'])),\n",
       " (('many', 1, 26, 'что-либо', 'thing'),\n",
       "  ('многие люди видели что-либо.',\n",
       "   ['[CLS]',\n",
       "    'многие',\n",
       "    'люди',\n",
       "    'виде',\n",
       "    '##ли',\n",
       "    '[MASK]',\n",
       "    '[MASK]',\n",
       "    '[MASK]',\n",
       "    '.',\n",
       "    '[SEP]'])),\n",
       " (('few', 1, 26, 'что-либо', 'thing'),\n",
       "  ('немногие люди видели что-либо.',\n",
       "   ['[CLS]',\n",
       "    'нем',\n",
       "    '##ног',\n",
       "    '##ие',\n",
       "    'люди',\n",
       "    'виде',\n",
       "    '##ли',\n",
       "    '[MASK]',\n",
       "    '[MASK]',\n",
       "    '[MASK]',\n",
       "    '.',\n",
       "    '[SEP]'])),\n",
       " (('aff', 1, 25, 'что-либо', 'thing'),\n",
       "  ('люди потеряли что-либо.',\n",
       "   ['[CLS]',\n",
       "    'люди',\n",
       "    'по',\n",
       "    '##тер',\n",
       "    '##яли',\n",
       "    '[MASK]',\n",
       "    '[MASK]',\n",
       "    '[MASK]',\n",
       "    '.',\n",
       "    '[SEP]'])),\n",
       " (('neg', 1, 25, 'чего-либо', 'thing'),\n",
       "  ('люди не потеряли чего-либо.',\n",
       "   ['[CLS]',\n",
       "    'люди',\n",
       "    'не',\n",
       "    'по',\n",
       "    '##тер',\n",
       "    '##яли',\n",
       "    '[MASK]',\n",
       "    '[MASK]',\n",
       "    '[MASK]',\n",
       "    '.',\n",
       "    '[SEP]'])),\n",
       " (('many', 1, 25, 'что-либо', 'thing'),\n",
       "  ('многие люди потеряли что-либо.',\n",
       "   ['[CLS]',\n",
       "    'многие',\n",
       "    'люди',\n",
       "    'по',\n",
       "    '##тер',\n",
       "    '##яли',\n",
       "    '[MASK]',\n",
       "    '[MASK]',\n",
       "    '[MASK]',\n",
       "    '.',\n",
       "    '[SEP]'])),\n",
       " (('few', 1, 25, 'что-либо', 'thing'),\n",
       "  ('немногие люди потеряли что-либо.',\n",
       "   ['[CLS]',\n",
       "    'нем',\n",
       "    '##ног',\n",
       "    '##ие',\n",
       "    'люди',\n",
       "    'по',\n",
       "    '##тер',\n",
       "    '##яли',\n",
       "    '[MASK]',\n",
       "    '[MASK]',\n",
       "    '[MASK]',\n",
       "    '.',\n",
       "    '[SEP]'])),\n",
       " (('aff', 8, 21, 'что-либо', 'thing'),\n",
       "  ('дети делали что-либо.',\n",
       "   ['[CLS]',\n",
       "    'дети',\n",
       "    'дела',\n",
       "    '##ли',\n",
       "    '[MASK]',\n",
       "    '[MASK]',\n",
       "    '[MASK]',\n",
       "    '.',\n",
       "    '[SEP]'])),\n",
       " (('neg', 8, 21, 'чего-либо', 'thing'),\n",
       "  ('дети не делали чего-либо.',\n",
       "   ['[CLS]',\n",
       "    'дети',\n",
       "    'не',\n",
       "    'дела',\n",
       "    '##ли',\n",
       "    '[MASK]',\n",
       "    '[MASK]',\n",
       "    '[MASK]',\n",
       "    '.',\n",
       "    '[SEP]'])),\n",
       " (('many', 8, 21, 'что-либо', 'thing'),\n",
       "  ('многие дети делали что-либо.',\n",
       "   ['[CLS]',\n",
       "    'многие',\n",
       "    'дети',\n",
       "    'дела',\n",
       "    '##ли',\n",
       "    '[MASK]',\n",
       "    '[MASK]',\n",
       "    '[MASK]',\n",
       "    '.',\n",
       "    '[SEP]'])),\n",
       " (('few', 8, 21, 'что-либо', 'thing'),\n",
       "  ('немногие дети делали что-либо.',\n",
       "   ['[CLS]',\n",
       "    'нем',\n",
       "    '##ног',\n",
       "    '##ие',\n",
       "    'дети',\n",
       "    'дела',\n",
       "    '##ли',\n",
       "    '[MASK]',\n",
       "    '[MASK]',\n",
       "    '[MASK]',\n",
       "    '.',\n",
       "    '[SEP]']))]"
      ]
     },
     "execution_count": 8,
     "metadata": {},
     "output_type": "execute_result"
    }
   ],
   "source": [
    "metadata_array[:20]"
   ]
  },
  {
   "cell_type": "code",
   "execution_count": 9,
   "metadata": {},
   "outputs": [
    {
     "data": {
      "text/plain": [
       "[6.279700274020731e-13,\n",
       " 2.4303194354702567e-11,\n",
       " 5.299500444425821e-13,\n",
       " 6.346746783712424e-13,\n",
       " 2.8091789888170834e-12,\n",
       " 7.30709363163656e-11,\n",
       " 9.285455004415478e-13,\n",
       " 3.2204669387649197e-12]"
      ]
     },
     "execution_count": 9,
     "metadata": {},
     "output_type": "execute_result"
    }
   ],
   "source": [
    "def assess_batch(batch, metas):\n",
    "    batch_input_ids = []\n",
    "    batch_segment_ids = []\n",
    "    \n",
    "    mask_positions = []\n",
    "    mask_lens = []\n",
    "\n",
    "    max_len = max(map(len,batch))\n",
    "    \n",
    "    for s in batch:\n",
    "        mask_positions.append( s.index('[MASK]') )\n",
    "        mask_lens.append( s.count('[MASK]') )\n",
    "        \n",
    "        input_ids = tokenizer.convert_tokens_to_ids(s + [\"[PAD]\",]*(max_len-len(s)))\n",
    "        batch_input_ids.append( input_ids )\n",
    "        batch_segment_ids.append( [0] * len(input_ids) )\n",
    "\n",
    "    input_ids = torch.tensor(batch_input_ids, dtype=torch.long).to(device)\n",
    "    segment_ids = torch.tensor(batch_segment_ids, dtype=torch.long).to(device)\n",
    "    logits = model(input_ids, token_type_ids=segment_ids)[0]\n",
    "    probs = softmax(logits)\n",
    "    \n",
    "    return [\n",
    "        reduce(mul, [pr[pos+t_pos][tokenizer.vocab[tok]].cpu().detach().numpy() \\\n",
    "            for t_pos, tok in enumerate(keywords2tokens[meta[0][3]]) ], 1. ) \\\n",
    "                for pr, pos, meta in zip(probs, mask_positions, metas)\n",
    "    ]\n",
    "        \n",
    "assess_batch(tokenized_array[128*4:130*4], metadata_array[126*4:130*4])"
   ]
  },
  {
   "cell_type": "code",
   "execution_count": 10,
   "metadata": {},
   "outputs": [],
   "source": [
    "# assess all the sentences\n",
    "\n",
    "BATCH_SIZE = 64\n",
    "\n",
    "scores = []\n",
    "for idx in range(0, len(tokenized_array), BATCH_SIZE):\n",
    "    scores.extend( assess_batch(tokenized_array[idx:idx+BATCH_SIZE], metadata_array[idx:idx+BATCH_SIZE]) )"
   ]
  },
  {
   "cell_type": "code",
   "execution_count": 11,
   "metadata": {},
   "outputs": [
    {
     "data": {
      "text/plain": [
       "40000"
      ]
     },
     "execution_count": 11,
     "metadata": {},
     "output_type": "execute_result"
    }
   ],
   "source": [
    "len(scores)"
   ]
  },
  {
   "cell_type": "code",
   "execution_count": 12,
   "metadata": {},
   "outputs": [],
   "source": [
    "from collections import defaultdict\n",
    "\n",
    "# reshape scores\n",
    "stats = defaultdict(lambda:defaultdict(lambda:defaultdict(float)))\n",
    "\n",
    "for score, meta in zip(scores, metadata_array):\n",
    "    if meta[0][0]=='aff':\n",
    "        handle = (meta[0][4], 'aff>neg')\n",
    "        k_idx = 0\n",
    "    if meta[0][0]=='neg':\n",
    "        handle = (meta[0][4], 'aff>neg')\n",
    "        k_idx = 1\n",
    "    if meta[0][0]=='many':\n",
    "        handle = (meta[0][4], 'many>few')\n",
    "        k_idx = 0\n",
    "    if meta[0][0]=='few':\n",
    "        handle = (meta[0][4], 'many>few')\n",
    "        k_idx = 1\n",
    "    stats[handle][(meta[0][1], meta[0][2])][k_idx] = score\n",
    "    handle = ('both', handle[1])\n",
    "    stats[handle][(meta[0][1], meta[0][2])][k_idx] += score"
   ]
  },
  {
   "cell_type": "code",
   "execution_count": 13,
   "metadata": {},
   "outputs": [
    {
     "name": "stdout",
     "output_type": "stream",
     "text": [
      "('body', 'aff>neg')   1.289%\n",
      "('body', 'many>few')   36.674%\n",
      "('both', 'aff>neg')   21.924%\n",
      "('both', 'many>few')   46.744%\n",
      "('thing', 'aff>neg')   26.570%\n",
      "('thing', 'many>few')   48.690%\n"
     ]
    }
   ],
   "source": [
    "for handle in sorted(stats):\n",
    "    print(handle, \n",
    "          f'  {np.count_nonzero(list(map(lambda x:x[0]>x[1], stats[handle].values())))/len(stats[handle].values()):0.3%}')"
   ]
  },
  {
   "cell_type": "code",
   "execution_count": 14,
   "metadata": {},
   "outputs": [
    {
     "data": {
      "text/plain": [
       "(array([1.000e+00, 0.000e+00, 0.000e+00, 2.000e+00, 3.000e+00, 4.000e+00,\n",
       "        2.900e+01, 1.050e+02, 7.447e+03, 4.000e+00]),\n",
       " array([-1.99337498e-08, -1.75325755e-08, -1.51314011e-08, -1.27302268e-08,\n",
       "        -1.03290524e-08, -7.92787805e-09, -5.52670369e-09, -3.12552934e-09,\n",
       "        -7.24354983e-10,  1.67681937e-09,  4.07799373e-09]),\n",
       " <BarContainer object of 10 artists>)"
      ]
     },
     "execution_count": 14,
     "metadata": {},
     "output_type": "execute_result"
    },
    {
     "data": {
      "image/png": "[encoded data removed]",
      "text/plain": [
       "<Figure size 432x288 with 1 Axes>"
      ]
     },
     "metadata": {
      "needs_background": "light"
     },
     "output_type": "display_data"
    }
   ],
   "source": [
    "plt.hist(list(map(lambda x:x[0]-x[1],stats[('thing', 'many>few')].values())))"
   ]
  },
  {
   "cell_type": "code",
   "execution_count": 15,
   "metadata": {},
   "outputs": [
    {
     "data": {
      "text/plain": [
       "(array([1.000e+00, 5.000e+00, 1.200e+01, 4.600e+01, 7.275e+03, 2.520e+02,\n",
       "        2.000e+00, 1.000e+00, 0.000e+00, 1.000e+00]),\n",
       " array([-2.31650796e-08, -1.84935107e-08, -1.38219418e-08, -9.15037289e-09,\n",
       "        -4.47880396e-09,  1.92764957e-10,  4.86433388e-09,  9.53590280e-09,\n",
       "         1.42074717e-08,  1.88790406e-08,  2.35506096e-08]),\n",
       " <BarContainer object of 10 artists>)"
      ]
     },
     "execution_count": 15,
     "metadata": {},
     "output_type": "execute_result"
    },
    {
     "data": {
      "image/png": "[encoded data removed]",
      "text/plain": [
       "<Figure size 432x288 with 1 Axes>"
      ]
     },
     "metadata": {
      "needs_background": "light"
     },
     "output_type": "display_data"
    }
   ],
   "source": [
    "plt.hist(list(map(lambda x:x[0]-x[1],stats[('thing', 'aff>neg')].values())))"
   ]
  },
  {
   "cell_type": "code",
   "execution_count": null,
   "metadata": {},
   "outputs": [],
   "source": []
  },
  {
   "cell_type": "code",
   "execution_count": null,
   "metadata": {},
   "outputs": [],
   "source": []
  }
 ],
 "metadata": {
  "kernelspec": {
   "display_name": "Python 3",
   "language": "python",
   "name": "python3"
  },
  "language_info": {
   "codemirror_mode": {
    "name": "ipython",
    "version": 3
   },
   "file_extension": ".py",
   "mimetype": "text/x-python",
   "name": "python",
   "nbconvert_exporter": "python",
   "pygments_lexer": "ipython3",
   "version": "3.8.5"
  }
 },
 "nbformat": 4,
 "nbformat_minor": 4
}
