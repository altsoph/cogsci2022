{
 "cells": [
  {
   "cell_type": "code",
   "execution_count": 2,
   "metadata": {},
   "outputs": [
    {
     "name": "stderr",
     "output_type": "stream",
     "text": [
      "Some weights of the model checkpoint at bert-base-multilingual-uncased were not used when initializing BertForMaskedLM: ['cls.seq_relationship.bias', 'cls.seq_relationship.weight']\n",
      "- This IS expected if you are initializing BertForMaskedLM from the checkpoint of a model trained on another task or with another architecture (e.g. initializing a BertForSequenceClassification model from a BertForPreTraining model).\n",
      "- This IS NOT expected if you are initializing BertForMaskedLM from the checkpoint of a model that you expect to be exactly identical (initializing a BertForSequenceClassification model from a BertForSequenceClassification model).\n"
     ]
    }
   ],
   "source": [
    "import time\n",
    "import datetime\n",
    "import pickle\n",
    "import random\n",
    "import json\n",
    "\n",
    "import torch\n",
    "import numpy as np\n",
    "import pandas as pd\n",
    "import matplotlib.pyplot as plt\n",
    "import transformers\n",
    "\n",
    "from torch.utils.data import random_split\n",
    "from collections import defaultdict, Counter\n",
    "from transformers import BertForMaskedLM, BertTokenizer\n",
    "from torch.utils.data import DataLoader, RandomSampler, SequentialSampler\n",
    "from transformers import get_linear_schedule_with_warmup\n",
    "import statsmodels.stats.proportion\n",
    "\n",
    "from operator import mul\n",
    "from functools import reduce\n",
    "\n",
    "\n",
    "device = 'cuda:0'\n",
    "softmax = torch.nn.Softmax(dim=-1)\n",
    "torch.manual_seed(0)\n",
    "np.random.seed(0)\n",
    "\n",
    "MODEL_NAME = 'bert-base-multilingual-uncased'\n",
    "\n",
    "tokenizer = BertTokenizer.from_pretrained(MODEL_NAME)\n",
    "model = BertForMaskedLM.from_pretrained(MODEL_NAME)\n",
    "device = torch.device('cuda:0')\n",
    "model.to(device)\n",
    "reverse_vocab = {y:x for x, y in tokenizer.vocab.items()}"
   ]
  },
  {
   "cell_type": "code",
   "execution_count": 3,
   "metadata": {},
   "outputs": [
    {
     "name": "stdout",
     "output_type": "stream",
     "text": [
      "1 ['ничего']\n",
      "2 ['ни', '##кого']\n"
     ]
    }
   ],
   "source": [
    "# let's check the number of tokens in our keywords\n",
    "keywords = ['ничего', 'никого']\n",
    "keywords2tokens = dict()\n",
    "\n",
    "for keyword in keywords:\n",
    "    tokens = tokenizer.tokenize(keyword)\n",
    "    keywords2tokens[keyword] = tokens\n",
    "    print(len(tokens), tokens)\n"
   ]
  },
  {
   "cell_type": "code",
   "execution_count": 4,
   "metadata": {},
   "outputs": [],
   "source": [
    "# parse, mask, tokenize\n",
    "\n",
    "subj_dict = dict()\n",
    "verb_dict = dict()\n",
    "\n",
    "def mask_sent(sent, kword):\n",
    "    return ['[CLS]',] + tokenizer.tokenize( \n",
    "        sent.replace(kword, '[MASK] '*len(keywords2tokens[kword])).replace('  ',' ') \n",
    "    ) + ['[SEP]',]\n",
    "\n",
    "tokenized_array = []\n",
    "metadata_array = []\n",
    "\n",
    "for idx, line in enumerate(open('ru_test_sentences_ni.tsv', encoding='utf-8')):\n",
    "    chunks = line.strip().split()\n",
    "    tchunks = line.strip().split('\\t')\n",
    "\n",
    "    if chunks[-1]=='thing':\n",
    "        kwords = ('ничего','ничего','ничего','ничего')\n",
    "    else:\n",
    "        kwords = ('никого','никого','никого','никого')\n",
    "\n",
    "    subj_id = int(chunks[-3])\n",
    "    subject = chunks[1]\n",
    "    subj_dict[subj_id] = subject\n",
    "    verb_id = int(chunks[-2])\n",
    "    verb1 = chunks[2]\n",
    "    verb2 = chunks[8]\n",
    "    verb_dict[verb_id] = (verb1, verb2)\n",
    "    \n",
    "    for tidx, (cl,kword) in enumerate( zip( ('aff', 'neg', 'many', 'few'), kwords ) ):\n",
    "        mt_sent = mask_sent(tchunks[tidx], kword)\n",
    "        tokenized_array.append( mt_sent )\n",
    "        metadata_array.append( \n",
    "            (\n",
    "                (cl, subj_id, verb_id, kword, chunks[-1]),\n",
    "                (tchunks[tidx], mt_sent)\n",
    "            )\n",
    "        )\n"
   ]
  },
  {
   "cell_type": "code",
   "execution_count": 6,
   "metadata": {},
   "outputs": [
    {
     "data": {
      "text/plain": [
       "[(('aff', 1, 21, 'ничего', 'thing'),\n",
       "  ('люди ничего делали.',\n",
       "   ['[CLS]', 'люди', '[MASK]', 'дела', '##ли', '.', '[SEP]'])),\n",
       " (('neg', 1, 21, 'ничего', 'thing'),\n",
       "  ('люди ничего не делали.',\n",
       "   ['[CLS]', 'люди', '[MASK]', 'не', 'дела', '##ли', '.', '[SEP]'])),\n",
       " (('many', 1, 21, 'ничего', 'thing'),\n",
       "  ('многие люди ничего делали.',\n",
       "   ['[CLS]', 'многие', 'люди', '[MASK]', 'дела', '##ли', '.', '[SEP]'])),\n",
       " (('few', 1, 21, 'ничего', 'thing'),\n",
       "  ('немногие люди ничего делали.',\n",
       "   ['[CLS]',\n",
       "    'нем',\n",
       "    '##ног',\n",
       "    '##ие',\n",
       "    'люди',\n",
       "    '[MASK]',\n",
       "    'дела',\n",
       "    '##ли',\n",
       "    '.',\n",
       "    '[SEP]'])),\n",
       " (('aff', 1, 18, 'ничего', 'thing'),\n",
       "  ('люди ничего сделали.',\n",
       "   ['[CLS]', 'люди', '[MASK]', 'сделал', '##и', '.', '[SEP]'])),\n",
       " (('neg', 1, 18, 'ничего', 'thing'),\n",
       "  ('люди ничего не сделали.',\n",
       "   ['[CLS]', 'люди', '[MASK]', 'не', 'сделал', '##и', '.', '[SEP]'])),\n",
       " (('many', 1, 18, 'ничего', 'thing'),\n",
       "  ('многие люди ничего сделали.',\n",
       "   ['[CLS]', 'многие', 'люди', '[MASK]', 'сделал', '##и', '.', '[SEP]'])),\n",
       " (('few', 1, 18, 'ничего', 'thing'),\n",
       "  ('немногие люди ничего сделали.',\n",
       "   ['[CLS]',\n",
       "    'нем',\n",
       "    '##ног',\n",
       "    '##ие',\n",
       "    'люди',\n",
       "    '[MASK]',\n",
       "    'сделал',\n",
       "    '##и',\n",
       "    '.',\n",
       "    '[SEP]'])),\n",
       " (('aff', 1, 26, 'ничего', 'thing'),\n",
       "  ('люди ничего видели.',\n",
       "   ['[CLS]', 'люди', '[MASK]', 'виде', '##ли', '.', '[SEP]'])),\n",
       " (('neg', 1, 26, 'ничего', 'thing'),\n",
       "  ('люди ничего не видели.',\n",
       "   ['[CLS]', 'люди', '[MASK]', 'не', 'виде', '##ли', '.', '[SEP]'])),\n",
       " (('many', 1, 26, 'ничего', 'thing'),\n",
       "  ('многие люди ничего видели.',\n",
       "   ['[CLS]', 'многие', 'люди', '[MASK]', 'виде', '##ли', '.', '[SEP]'])),\n",
       " (('few', 1, 26, 'ничего', 'thing'),\n",
       "  ('немногие люди ничего видели.',\n",
       "   ['[CLS]',\n",
       "    'нем',\n",
       "    '##ног',\n",
       "    '##ие',\n",
       "    'люди',\n",
       "    '[MASK]',\n",
       "    'виде',\n",
       "    '##ли',\n",
       "    '.',\n",
       "    '[SEP]'])),\n",
       " (('aff', 1, 25, 'ничего', 'thing'),\n",
       "  ('люди ничего потеряли.',\n",
       "   ['[CLS]', 'люди', '[MASK]', 'по', '##тер', '##яли', '.', '[SEP]'])),\n",
       " (('neg', 1, 25, 'ничего', 'thing'),\n",
       "  ('люди ничего не потеряли.',\n",
       "   ['[CLS]', 'люди', '[MASK]', 'не', 'по', '##тер', '##яли', '.', '[SEP]'])),\n",
       " (('many', 1, 25, 'ничего', 'thing'),\n",
       "  ('многие люди ничего потеряли.',\n",
       "   ['[CLS]',\n",
       "    'многие',\n",
       "    'люди',\n",
       "    '[MASK]',\n",
       "    'по',\n",
       "    '##тер',\n",
       "    '##яли',\n",
       "    '.',\n",
       "    '[SEP]'])),\n",
       " (('few', 1, 25, 'ничего', 'thing'),\n",
       "  ('немногие люди ничего потеряли.',\n",
       "   ['[CLS]',\n",
       "    'нем',\n",
       "    '##ног',\n",
       "    '##ие',\n",
       "    'люди',\n",
       "    '[MASK]',\n",
       "    'по',\n",
       "    '##тер',\n",
       "    '##яли',\n",
       "    '.',\n",
       "    '[SEP]'])),\n",
       " (('aff', 8, 21, 'ничего', 'thing'),\n",
       "  ('дети ничего делали.',\n",
       "   ['[CLS]', 'дети', '[MASK]', 'дела', '##ли', '.', '[SEP]'])),\n",
       " (('neg', 8, 21, 'ничего', 'thing'),\n",
       "  ('дети ничего не делали.',\n",
       "   ['[CLS]', 'дети', '[MASK]', 'не', 'дела', '##ли', '.', '[SEP]'])),\n",
       " (('many', 8, 21, 'ничего', 'thing'),\n",
       "  ('многие дети ничего делали.',\n",
       "   ['[CLS]', 'многие', 'дети', '[MASK]', 'дела', '##ли', '.', '[SEP]'])),\n",
       " (('few', 8, 21, 'ничего', 'thing'),\n",
       "  ('немногие дети ничего делали.',\n",
       "   ['[CLS]',\n",
       "    'нем',\n",
       "    '##ног',\n",
       "    '##ие',\n",
       "    'дети',\n",
       "    '[MASK]',\n",
       "    'дела',\n",
       "    '##ли',\n",
       "    '.',\n",
       "    '[SEP]'])),\n",
       " (('aff', 73, 21, 'ничего', 'thing'),\n",
       "  ('дома ничего делали.',\n",
       "   ['[CLS]', 'дома', '[MASK]', 'дела', '##ли', '.', '[SEP]'])),\n",
       " (('neg', 73, 21, 'ничего', 'thing'),\n",
       "  ('дома ничего не делали.',\n",
       "   ['[CLS]', 'дома', '[MASK]', 'не', 'дела', '##ли', '.', '[SEP]'])),\n",
       " (('many', 73, 21, 'ничего', 'thing'),\n",
       "  ('многие дома ничего делали.',\n",
       "   ['[CLS]', 'многие', 'дома', '[MASK]', 'дела', '##ли', '.', '[SEP]'])),\n",
       " (('few', 73, 21, 'ничего', 'thing'),\n",
       "  ('немногие дома ничего делали.',\n",
       "   ['[CLS]',\n",
       "    'нем',\n",
       "    '##ног',\n",
       "    '##ие',\n",
       "    'дома',\n",
       "    '[MASK]',\n",
       "    'дела',\n",
       "    '##ли',\n",
       "    '.',\n",
       "    '[SEP]'])),\n",
       " (('aff', 22, 85, 'ничего', 'thing'),\n",
       "  ('изменения ничего изменили.',\n",
       "   ['[CLS]', 'изменения', '[MASK]', 'из', '##менил', '##и', '.', '[SEP]'])),\n",
       " (('neg', 22, 85, 'ничего', 'thing'),\n",
       "  ('изменения ничего не изменили.',\n",
       "   ['[CLS]',\n",
       "    'изменения',\n",
       "    '[MASK]',\n",
       "    'не',\n",
       "    'из',\n",
       "    '##менил',\n",
       "    '##и',\n",
       "    '.',\n",
       "    '[SEP]'])),\n",
       " (('many', 22, 85, 'ничего', 'thing'),\n",
       "  ('многие изменения ничего изменили.',\n",
       "   ['[CLS]',\n",
       "    'многие',\n",
       "    'изменения',\n",
       "    '[MASK]',\n",
       "    'из',\n",
       "    '##менил',\n",
       "    '##и',\n",
       "    '.',\n",
       "    '[SEP]'])),\n",
       " (('few', 22, 85, 'ничего', 'thing'),\n",
       "  ('немногие изменения ничего изменили.',\n",
       "   ['[CLS]',\n",
       "    'нем',\n",
       "    '##ног',\n",
       "    '##ие',\n",
       "    'изменения',\n",
       "    '[MASK]',\n",
       "    'из',\n",
       "    '##менил',\n",
       "    '##и',\n",
       "    '.',\n",
       "    '[SEP]'])),\n",
       " (('aff', 1, 29, 'никого', 'body'),\n",
       "  ('люди никого убили.',\n",
       "   ['[CLS]', 'люди', '[MASK]', '[MASK]', 'у', '##били', '.', '[SEP]'])),\n",
       " (('neg', 1, 29, 'никого', 'body'),\n",
       "  ('люди никого не убили.',\n",
       "   ['[CLS]', 'люди', '[MASK]', '[MASK]', 'не', 'у', '##били', '.', '[SEP]'])),\n",
       " (('many', 1, 29, 'никого', 'body'),\n",
       "  ('многие люди никого убили.',\n",
       "   ['[CLS]',\n",
       "    'многие',\n",
       "    'люди',\n",
       "    '[MASK]',\n",
       "    '[MASK]',\n",
       "    'у',\n",
       "    '##били',\n",
       "    '.',\n",
       "    '[SEP]'])),\n",
       " (('few', 1, 29, 'никого', 'body'),\n",
       "  ('немногие люди никого убили.',\n",
       "   ['[CLS]',\n",
       "    'нем',\n",
       "    '##ног',\n",
       "    '##ие',\n",
       "    'люди',\n",
       "    '[MASK]',\n",
       "    '[MASK]',\n",
       "    'у',\n",
       "    '##били',\n",
       "    '.',\n",
       "    '[SEP]'])),\n",
       " (('aff', 1, 133, 'ничего', 'thing'),\n",
       "  ('люди ничего искали.',\n",
       "   ['[CLS]', 'люди', '[MASK]', 'и', '##ска', '##ли', '.', '[SEP]'])),\n",
       " (('neg', 1, 133, 'ничего', 'thing'),\n",
       "  ('люди ничего не искали.',\n",
       "   ['[CLS]', 'люди', '[MASK]', 'не', 'и', '##ска', '##ли', '.', '[SEP]'])),\n",
       " (('many', 1, 133, 'ничего', 'thing'),\n",
       "  ('многие люди ничего искали.',\n",
       "   ['[CLS]', 'многие', 'люди', '[MASK]', 'и', '##ска', '##ли', '.', '[SEP]'])),\n",
       " (('few', 1, 133, 'ничего', 'thing'),\n",
       "  ('немногие люди ничего искали.',\n",
       "   ['[CLS]',\n",
       "    'нем',\n",
       "    '##ног',\n",
       "    '##ие',\n",
       "    'люди',\n",
       "    '[MASK]',\n",
       "    'и',\n",
       "    '##ска',\n",
       "    '##ли',\n",
       "    '.',\n",
       "    '[SEP]'])),\n",
       " (('aff', 143, 133, 'ничего', 'thing'),\n",
       "  ('глаза ничего искали.',\n",
       "   ['[CLS]', 'глаза', '[MASK]', 'и', '##ска', '##ли', '.', '[SEP]'])),\n",
       " (('neg', 143, 133, 'ничего', 'thing'),\n",
       "  ('глаза ничего не искали.',\n",
       "   ['[CLS]', 'глаза', '[MASK]', 'не', 'и', '##ска', '##ли', '.', '[SEP]'])),\n",
       " (('many', 143, 133, 'ничего', 'thing'),\n",
       "  ('многие глаза ничего искали.',\n",
       "   ['[CLS]',\n",
       "    'многие',\n",
       "    'глаза',\n",
       "    '[MASK]',\n",
       "    'и',\n",
       "    '##ска',\n",
       "    '##ли',\n",
       "    '.',\n",
       "    '[SEP]'])),\n",
       " (('few', 143, 133, 'ничего', 'thing'),\n",
       "  ('немногие глаза ничего искали.',\n",
       "   ['[CLS]',\n",
       "    'нем',\n",
       "    '##ног',\n",
       "    '##ие',\n",
       "    'глаза',\n",
       "    '[MASK]',\n",
       "    'и',\n",
       "    '##ска',\n",
       "    '##ли',\n",
       "    '.',\n",
       "    '[SEP]']))]"
      ]
     },
     "execution_count": 6,
     "metadata": {},
     "output_type": "execute_result"
    }
   ],
   "source": [
    "metadata_array[:40]"
   ]
  },
  {
   "cell_type": "code",
   "execution_count": 7,
   "metadata": {},
   "outputs": [
    {
     "data": {
      "text/plain": [
       "[0.0040571722202003,\n",
       " 0.11882107704877853,\n",
       " 0.007178084459155798,\n",
       " 0.0200650654733181,\n",
       " 9.675215879322005e-08,\n",
       " 3.3684867175971694e-11,\n",
       " 1.1845675830736905e-08,\n",
       " 2.0086326376185732e-08]"
      ]
     },
     "execution_count": 7,
     "metadata": {},
     "output_type": "execute_result"
    }
   ],
   "source": [
    "def assess_batch(batch, metas):\n",
    "    batch_input_ids = []\n",
    "    batch_segment_ids = []\n",
    "    \n",
    "    mask_positions = []\n",
    "    mask_lens = []\n",
    "\n",
    "    max_len = max(map(len,batch))\n",
    "    \n",
    "    for s in batch:\n",
    "        mask_positions.append( s.index('[MASK]') )\n",
    "        mask_lens.append( s.count('[MASK]') )\n",
    "        \n",
    "        input_ids = tokenizer.convert_tokens_to_ids(s + [\"[PAD]\",]*(max_len-len(s)))\n",
    "        batch_input_ids.append( input_ids )\n",
    "        batch_segment_ids.append( [0] * len(input_ids) )\n",
    "\n",
    "    input_ids = torch.tensor(batch_input_ids, dtype=torch.long).to(device)\n",
    "    segment_ids = torch.tensor(batch_segment_ids, dtype=torch.long).to(device)\n",
    "    logits = model(input_ids, token_type_ids=segment_ids)[0]\n",
    "    probs = softmax(logits)\n",
    "    \n",
    "    return [\n",
    "        reduce(mul, [pr[pos+t_pos][tokenizer.vocab[tok]].cpu().detach().numpy() \\\n",
    "            for t_pos, tok in enumerate(keywords2tokens[meta[0][3]]) ], 1. ) \\\n",
    "                for pr, pos, meta in zip(probs, mask_positions, metas)\n",
    "    ]\n",
    "        \n",
    "assess_batch(tokenized_array[128*4:130*4], metadata_array[126*4:130*4])"
   ]
  },
  {
   "cell_type": "code",
   "execution_count": 8,
   "metadata": {},
   "outputs": [],
   "source": [
    "# assess all the sentences\n",
    "\n",
    "BATCH_SIZE = 64\n",
    "\n",
    "scores = []\n",
    "for idx in range(0, len(tokenized_array), BATCH_SIZE):\n",
    "    scores.extend( assess_batch(tokenized_array[idx:idx+BATCH_SIZE], metadata_array[idx:idx+BATCH_SIZE]) )"
   ]
  },
  {
   "cell_type": "code",
   "execution_count": 9,
   "metadata": {},
   "outputs": [
    {
     "data": {
      "text/plain": [
       "40000"
      ]
     },
     "execution_count": 9,
     "metadata": {},
     "output_type": "execute_result"
    }
   ],
   "source": [
    "len(scores)"
   ]
  },
  {
   "cell_type": "code",
   "execution_count": 16,
   "metadata": {},
   "outputs": [],
   "source": [
    "from collections import defaultdict\n",
    "\n",
    "# reshape scores\n",
    "stats = defaultdict(lambda:defaultdict(lambda:defaultdict(float)))\n",
    "\n",
    "for score, meta in zip(scores, metadata_array):\n",
    "    if meta[0][0]=='aff':\n",
    "        handle = (meta[0][4], 'aff>neg')\n",
    "        k_idx = 0\n",
    "    if meta[0][0]=='neg':\n",
    "        handle = (meta[0][4], 'aff>neg')\n",
    "        k_idx = 1\n",
    "    if meta[0][0]=='many':\n",
    "        handle = (meta[0][4], 'many>few')\n",
    "        k_idx = 0\n",
    "    if meta[0][0]=='few':\n",
    "        handle = (meta[0][4], 'many>few')\n",
    "        k_idx = 1\n",
    "    stats[handle][(meta[0][1], meta[0][2])][k_idx] = score\n",
    "    handle = ('both', handle[1])\n",
    "    stats[handle][(meta[0][1], meta[0][2])][k_idx] += score\n"
   ]
  },
  {
   "cell_type": "code",
   "execution_count": 18,
   "metadata": {},
   "outputs": [
    {
     "name": "stdout",
     "output_type": "stream",
     "text": [
      "('body', 'aff>neg')   0.000%\n",
      "('body', 'many>few')   5.738%\n",
      "('both', 'aff>neg')   0.116%\n",
      "('both', 'many>few')   20.660%\n",
      "('thing', 'aff>neg')   0.132%\n",
      "('thing', 'many>few')   22.330%\n"
     ]
    }
   ],
   "source": [
    "for handle in sorted(stats):\n",
    "    print(handle, \n",
    "          f'  {np.count_nonzero(list(map(lambda x:x[0]>x[1], stats[handle].values())))/len(stats[handle].values()):0.3%}')"
   ]
  },
  {
   "cell_type": "code",
   "execution_count": 12,
   "metadata": {},
   "outputs": [
    {
     "data": {
      "text/plain": [
       "(array([2.000e+00, 0.000e+00, 0.000e+00, 4.000e+00, 3.000e+00, 1.900e+01,\n",
       "        8.800e+01, 1.346e+03, 6.128e+03, 5.000e+00]),\n",
       " array([-0.0904513 , -0.07949817, -0.06854503, -0.0575919 , -0.04663876,\n",
       "        -0.03568563, -0.02473249, -0.01377936, -0.00282622,  0.00812691,\n",
       "         0.01908005]),\n",
       " <BarContainer object of 10 artists>)"
      ]
     },
     "execution_count": 12,
     "metadata": {},
     "output_type": "execute_result"
    },
    {
     "data": {
      "image/png": "[encoded data removed]",
      "text/plain": [
       "<Figure size 432x288 with 1 Axes>"
      ]
     },
     "metadata": {
      "needs_background": "light"
     },
     "output_type": "display_data"
    }
   ],
   "source": [
    "plt.hist(list(map(lambda x:x[0]-x[1],stats[('thing', 'many>few')].values())))"
   ]
  },
  {
   "cell_type": "code",
   "execution_count": 13,
   "metadata": {},
   "outputs": [
    {
     "data": {
      "text/plain": [
       "(array([1.000e+00, 8.000e+00, 2.800e+01, 6.800e+01, 1.440e+02, 2.560e+02,\n",
       "        4.630e+02, 8.420e+02, 1.974e+03, 3.811e+03]),\n",
       " array([-7.11420099e-01, -6.40211421e-01, -5.69002742e-01, -4.97794064e-01,\n",
       "        -4.26585386e-01, -3.55376708e-01, -2.84168030e-01, -2.12959352e-01,\n",
       "        -1.41750674e-01, -7.05419954e-02,  6.66682783e-04]),\n",
       " <BarContainer object of 10 artists>)"
      ]
     },
     "execution_count": 13,
     "metadata": {},
     "output_type": "execute_result"
    },
    {
     "data": {
      "image/png": "[encoded data removed]",
      "text/plain": [
       "<Figure size 432x288 with 1 Axes>"
      ]
     },
     "metadata": {
      "needs_background": "light"
     },
     "output_type": "display_data"
    }
   ],
   "source": [
    "plt.hist(list(map(lambda x:x[0]-x[1],stats[('thing', 'aff>neg')].values())))"
   ]
  },
  {
   "cell_type": "code",
   "execution_count": null,
   "metadata": {},
   "outputs": [],
   "source": []
  },
  {
   "cell_type": "code",
   "execution_count": null,
   "metadata": {},
   "outputs": [],
   "source": []
  }
 ],
 "metadata": {
  "kernelspec": {
   "display_name": "Python 3",
   "language": "python",
   "name": "python3"
  },
  "language_info": {
   "codemirror_mode": {
    "name": "ipython",
    "version": 3
   },
   "file_extension": ".py",
   "mimetype": "text/x-python",
   "name": "python",
   "nbconvert_exporter": "python",
   "pygments_lexer": "ipython3",
   "version": "3.8.5"
  }
 },
 "nbformat": 4,
 "nbformat_minor": 4
}
